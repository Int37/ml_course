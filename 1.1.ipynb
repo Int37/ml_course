{
 "cells": [
  {
   "cell_type": "code",
   "execution_count": 5,
   "metadata": {},
   "outputs": [
    {
     "data": {
      "text/plain": [
       "['aa', 'cc', 'bb', 'AA']"
      ]
     },
     "execution_count": 5,
     "metadata": {},
     "output_type": "execute_result"
    }
   ],
   "source": [
    "def word_count(a):\n",
    "    char = [\"'\",':','.',',','-','\"','!','?','^',';','&','*','[','{','/','+','-','~','`']\n",
    "    a = a.split(' ') #разделяем на слова\n",
    "    for i in range(len(a)): #удаляем все знаки пунктуации\n",
    "        for k in char:\n",
    "            a[i]= a[i].replace(k,'')\n",
    "    b =a.copy() # создаем копию,чтобы избежать пропусков в иттерации при использовании for\n",
    "    for i in a: #удаляем слова длинной в 1\n",
    "        if(len(i) <= 1):\n",
    "            b.remove(i)\n",
    "    a = b #меняем копию и оригинал местами\n",
    "    del(b) #удаляем ненужную копию\n",
    "    d={} #создаем кортеж\n",
    "    b =a.copy() # создаем копию,чтобы избежать пропусков в иттерации при использовании for\n",
    "    for i in a: #заполняем кортеж,гду value - количество повторений,а key - слова\n",
    "        k= 0\n",
    "        while(i in b):\n",
    "            b.remove(i)\n",
    "            k +=1\n",
    "            d[i]=k\n",
    "\n",
    "    del(b) #удаляем ненужную копию\n",
    "    d = sorted(d.items(), key=lambda x: x[1]) #создаем сортированный list\n",
    "    d.reverse() #меняем сортировку list на обратную,чтобы получить от большего к меньшему\n",
    "    a=[] #переназначем а\n",
    "    for i in range(len(d)): #заполняем list a отсортированными словами,при этом не больше 10(как говорилось в задании)\n",
    "        if(len(a)==10):\n",
    "            break\n",
    "        a.append(d[i][0])\n",
    "    return a\n",
    "    \n",
    "\n",
    "word_count(\"aa aa aa bb cc cc A B bb a AA\") "
   ]
  },
  {
   "cell_type": "code",
   "execution_count": 2,
   "metadata": {},
   "outputs": [],
   "source": [
    "def summa(n):\n",
    "    m = 0\n",
    "    for i in range(len(str(n))):\n",
    "        m+=int(str(n)[i])\n",
    "        \n",
    "    pass\n",
    "summa(12343)"
   ]
  },
  {
   "cell_type": "code",
   "execution_count": 6,
   "metadata": {},
   "outputs": [
    {
     "name": "stdout",
     "output_type": "stream",
     "text": [
      "None\n"
     ]
    }
   ],
   "source": [
    "def summa_recursive(n):\n",
    "    def suma( n):\n",
    "        if(n): \n",
    "            return n%10+suma(n//10)\n",
    "        else:\n",
    "            return 0\n",
    "    pass\n",
    "        \n",
    "print(summa_recursive(12343))\n",
    "\n",
    "\n"
   ]
  },
  {
   "cell_type": "code",
   "execution_count": null,
   "metadata": {},
   "outputs": [],
   "source": []
  },
  {
   "cell_type": "code",
   "execution_count": null,
   "metadata": {},
   "outputs": [],
   "source": [
    "\n"
   ]
  },
  {
   "cell_type": "code",
   "execution_count": null,
   "metadata": {},
   "outputs": [],
   "source": []
  },
  {
   "cell_type": "code",
   "execution_count": null,
   "metadata": {},
   "outputs": [],
   "source": []
  },
  {
   "cell_type": "code",
   "execution_count": null,
   "metadata": {},
   "outputs": [],
   "source": []
  }
 ],
 "metadata": {
  "kernelspec": {
   "display_name": "Python 3",
   "language": "python",
   "name": "python3"
  },
  "language_info": {
   "codemirror_mode": {
    "name": "ipython",
    "version": 3
   },
   "file_extension": ".py",
   "mimetype": "text/x-python",
   "name": "python",
   "nbconvert_exporter": "python",
   "pygments_lexer": "ipython3",
   "version": "3.6.5"
  }
 },
 "nbformat": 4,
 "nbformat_minor": 2
}
