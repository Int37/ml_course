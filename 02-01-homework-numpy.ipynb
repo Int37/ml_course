{
 "cells": [
  {
   "cell_type": "markdown",
   "metadata": {},
   "source": [
    "# Homework 2.1 Numpy\n",
    "\n",
    "1. Скачайте этот ноутбук к себе.\n",
    "2. Заполните пропущенные ячейки, отвечая на заданные вопросы. Там должен быть код! (если не сказано обратное)\n",
    "3. Сохраните результат в своём гитхаб репозитории.\n",
    "\n",
    "#### Полезная литература\n",
    "\n",
    "- http://www.numpy.org/\n",
    "- https://jakevdp.github.io/PythonDataScienceHandbook/02.00-introduction-to-numpy.html\n",
    "- https://docs.scipy.org/doc/numpy/user/quickstart.html"
   ]
  },
  {
   "cell_type": "markdown",
   "metadata": {},
   "source": [
    "1) Создать матрицу с числами в диапазоне от 1 до 4 по диагонали. В других ячейках матрицы должны быть семерки."
   ]
  },
  {
   "cell_type": "code",
   "execution_count": 2,
   "metadata": {},
   "outputs": [
    {
     "name": "stdout",
     "output_type": "stream",
     "text": [
      "[[1 7 7]\n",
      " [7 2 7]\n",
      " [7 7 3]]\n"
     ]
    }
   ],
   "source": [
    "import numpy as np\n",
    "a = np.diag(range(1,4))\n",
    "a[a == 0] = 7\n",
    "print(a)"
   ]
  },
  {
   "cell_type": "markdown",
   "metadata": {},
   "source": [
    "2) Создать матрицу размера 5 на 5 заполненную чилами от 0 до 4 в строках."
   ]
  },
  {
   "cell_type": "code",
   "execution_count": 12,
   "metadata": {},
   "outputs": [
    {
     "data": {
      "text/plain": [
       "array([[0, 1, 2, 3, 4],\n",
       "       [0, 1, 2, 3, 4],\n",
       "       [0, 1, 2, 3, 4],\n",
       "       [0, 1, 2, 3, 4],\n",
       "       [0, 1, 2, 3, 4]])"
      ]
     },
     "execution_count": 12,
     "metadata": {},
     "output_type": "execute_result"
    }
   ],
   "source": [
    "np.array(list(range(5)) * 5).reshape(5,5)"
   ]
  },
  {
   "cell_type": "markdown",
   "metadata": {},
   "source": [
    "3) Создать матрицу случайных чисел размера 10 на 10 и отнять среднее по строкам из каждого элемента строки"
   ]
  },
  {
   "cell_type": "code",
   "execution_count": 27,
   "metadata": {
    "scrolled": true
   },
   "outputs": [
    {
     "data": {
      "text/plain": [
       "array([[4, 6, 5, 6, 4, 6, 9, 6, 8, 0],\n",
       "       [8, 4, 4, 7, 9, 8, 2, 4, 2, 2],\n",
       "       [2, 4, 6, 9, 0, 5, 3, 9, 5, 0],\n",
       "       [3, 2, 4, 6, 3, 6, 8, 4, 7, 3],\n",
       "       [1, 8, 7, 6, 8, 9, 6, 9, 1, 2],\n",
       "       [3, 8, 2, 3, 6, 7, 1, 1, 2, 2],\n",
       "       [4, 2, 0, 4, 9, 0, 3, 0, 2, 5],\n",
       "       [4, 5, 7, 6, 3, 1, 3, 8, 5, 6],\n",
       "       [5, 1, 9, 1, 3, 4, 4, 2, 9, 5],\n",
       "       [2, 5, 3, 1, 4, 2, 5, 9, 1, 5]])"
      ]
     },
     "execution_count": 27,
     "metadata": {},
     "output_type": "execute_result"
    }
   ],
   "source": [
    "X = np.random.randint(10,size = (10, 10))\n",
    "X   \n",
    "    "
   ]
  },
  {
   "cell_type": "code",
   "execution_count": 33,
   "metadata": {},
   "outputs": [
    {
     "data": {
      "text/plain": [
       "array([[-1.4,  0.6, -0.4,  0.6, -1.4,  0.6,  3.6,  0.6,  2.6, -5.4],\n",
       "       [ 3. , -1. , -1. ,  2. ,  4. ,  3. , -3. , -1. , -3. , -3. ],\n",
       "       [-2.3, -0.3,  1.7,  4.7, -4.3,  0.7, -1.3,  4.7,  0.7, -4.3],\n",
       "       [-1.6, -2.6, -0.6,  1.4, -1.6,  1.4,  3.4, -0.6,  2.4, -1.6],\n",
       "       [-4.7,  2.3,  1.3,  0.3,  2.3,  3.3,  0.3,  3.3, -4.7, -3.7],\n",
       "       [-0.5,  4.5, -1.5, -0.5,  2.5,  3.5, -2.5, -2.5, -1.5, -1.5],\n",
       "       [ 1.1, -0.9, -2.9,  1.1,  6.1, -2.9,  0.1, -2.9, -0.9,  2.1],\n",
       "       [-0.8,  0.2,  2.2,  1.2, -1.8, -3.8, -1.8,  3.2,  0.2,  1.2],\n",
       "       [ 0.7, -3.3,  4.7, -3.3, -1.3, -0.3, -0.3, -2.3,  4.7,  0.7],\n",
       "       [-1.7,  1.3, -0.7, -2.7,  0.3, -1.7,  1.3,  5.3, -2.7,  1.3]])"
      ]
     },
     "execution_count": 33,
     "metadata": {},
     "output_type": "execute_result"
    }
   ],
   "source": [
    "X - X.mean(axis=1,keepdims=True)\n"
   ]
  },
  {
   "cell_type": "markdown",
   "metadata": {},
   "source": [
    "4) Создать матрицу случайных чисел размера 10 на 10 и отнять медиану по столбцам из каждого элемента столбца  "
   ]
  },
  {
   "cell_type": "code",
   "execution_count": 81,
   "metadata": {},
   "outputs": [
    {
     "data": {
      "text/plain": [
       "array([[1, 8, 9, 1, 5, 4, 5, 1, 6, 4],\n",
       "       [8, 4, 1, 6, 7, 2, 8, 2, 7, 4],\n",
       "       [6, 0, 7, 5, 9, 0, 6, 3, 2, 9],\n",
       "       [3, 4, 2, 3, 9, 6, 2, 5, 6, 2],\n",
       "       [8, 5, 7, 3, 1, 1, 4, 1, 1, 5],\n",
       "       [0, 9, 6, 9, 5, 3, 5, 1, 2, 2],\n",
       "       [4, 2, 9, 0, 7, 6, 1, 9, 0, 3],\n",
       "       [5, 8, 5, 4, 2, 4, 3, 1, 4, 6],\n",
       "       [9, 8, 7, 4, 9, 3, 6, 2, 3, 2],\n",
       "       [2, 8, 3, 6, 9, 4, 7, 0, 9, 7]])"
      ]
     },
     "execution_count": 81,
     "metadata": {},
     "output_type": "execute_result"
    }
   ],
   "source": [
    "Y= np.random.randint(10,size = (10, 10))\n",
    "Y"
   ]
  },
  {
   "cell_type": "code",
   "execution_count": 80,
   "metadata": {},
   "outputs": [
    {
     "data": {
      "text/plain": [
       "array([[ 1. , -1. ,  1. , -0.5,  2. ,  4. ,  3.5,  3. ,  4.5, -4. ],\n",
       "       [-1. ,  4. , -1. ,  1.5,  1. ,  2. ,  1.5,  2. ,  0.5,  4. ],\n",
       "       [-4. , -1. ,  2. ,  5.5, -5. , -5. ,  1.5,  2. , -2.5, -4. ],\n",
       "       [ 0. , -2. ,  2. ,  5.5, -2. , -2. , -3.5, -6. ,  1.5,  4. ],\n",
       "       [ 5. , -1. ,  1. ,  5.5,  1. , -5. , -3.5,  2. , -1.5, -3. ],\n",
       "       [ 4. , -3. , -2. , -3.5, -1. ,  0. , -2.5, -4. , -2.5, -5. ],\n",
       "       [ 0. ,  4. , -6. , -1.5, -4. ,  0. , -3.5,  1. ,  3.5,  1. ],\n",
       "       [ 1. ,  2. , -3. , -1.5,  0. , -3. , -1.5, -3. , -0.5,  0. ],\n",
       "       [-3. ,  5. ,  2. , -0.5,  1. ,  3. ,  5.5, -1. ,  3.5,  1. ],\n",
       "       [-3. ,  1. , -6. ,  0.5,  0. ,  1. ,  2.5, -4. , -4.5,  0. ]])"
      ]
     },
     "execution_count": 80,
     "metadata": {},
     "output_type": "execute_result"
    }
   ],
   "source": [
    "Y - np.median(Y,axis=0,keepdims=True)"
   ]
  },
  {
   "cell_type": "markdown",
   "metadata": {},
   "source": [
    "5) Создать матрицу случайных чисел 5x5. Добавить к ней столбецы максимумов и минимумов по строкам. Получится матрица 5x7.  "
   ]
  },
  {
   "cell_type": "code",
   "execution_count": 51,
   "metadata": {},
   "outputs": [
    {
     "data": {
      "text/plain": [
       "array([[9, 6, 5, 6, 8, 5, 4, 5, 5, 5, 9, 4],\n",
       "       [8, 3, 5, 6, 4, 7, 8, 1, 7, 5, 8, 1],\n",
       "       [3, 2, 8, 3, 1, 2, 3, 9, 8, 9, 9, 1],\n",
       "       [4, 1, 3, 5, 9, 1, 3, 5, 5, 8, 9, 1],\n",
       "       [3, 5, 5, 6, 6, 1, 5, 8, 6, 7, 8, 1],\n",
       "       [9, 5, 3, 2, 8, 1, 7, 0, 3, 8, 9, 0],\n",
       "       [0, 3, 8, 4, 2, 0, 5, 5, 0, 0, 8, 0],\n",
       "       [3, 3, 3, 6, 4, 3, 8, 9, 0, 0, 9, 0],\n",
       "       [8, 0, 5, 3, 5, 8, 0, 8, 4, 7, 8, 0],\n",
       "       [8, 4, 8, 0, 2, 5, 7, 3, 0, 2, 8, 0]])"
      ]
     },
     "execution_count": 51,
     "metadata": {},
     "output_type": "execute_result"
    }
   ],
   "source": [
    "x = np.random.randint(10,size = (10, 10))\n",
    "x.max(axis =1,keepdims=True)\n",
    "x.min(axis =1,keepdims=True)\n",
    "np.concatenate((x,x.max(axis =1,keepdims=True),x.min(axis =1,keepdims=True)),axis = 1)"
   ]
  },
  {
   "cell_type": "markdown",
   "metadata": {},
   "source": [
    "6) Вектор чисел от 1 до 51 преобразовать в вектор нечетных чисел и в вектор четных чисел, поменять их размерности, чтобы получились две матрица. Найти произведение этих матриц. Найти обратную матрицу эётого произведения.  "
   ]
  },
  {
   "cell_type": "code",
   "execution_count": 77,
   "metadata": {},
   "outputs": [
    {
     "name": "stdout",
     "output_type": "stream",
     "text": [
      "[[1246 1330 1414 1498]\n",
      " [2902 3130 3358 3586]\n",
      " [4558 4930 5302 5674]\n",
      " [6214 6730 7246 7762]]\n",
      "[[-3.66503876e+11 -3.21853878e-04  1.09951163e+12 -7.33007752e+11]\n",
      " [-7.13272928e+11  2.16519213e+12 -2.19056547e+12  7.38646273e+11]\n",
      " [ 2.52605748e+12 -4.33038426e+12  1.08259606e+12  7.21730710e+11]\n",
      " [-1.44628068e+12  2.16519213e+12  8.45778175e+09 -7.27369231e+11]]\n"
     ]
    }
   ],
   "source": [
    "a =np.mat(np.arange(1,50)[1::2]).reshape(4,6)\n",
    "b =np.mat(np.arange(1,50)[2::2]).reshape(6,4)\n",
    "print(a*b)\n",
    "print(np.linalg.inv(a*b))\n"
   ]
  },
  {
   "cell_type": "markdown",
   "metadata": {},
   "source": [
    "7) Создать 8x8 матрицу и заполнить её в шахматном порядке нулями и единицами. "
   ]
  },
  {
   "cell_type": "code",
   "execution_count": 79,
   "metadata": {},
   "outputs": [
    {
     "data": {
      "text/plain": [
       "array([[0, 1, 0, 1, 0, 1, 0, 1],\n",
       "       [1, 0, 1, 0, 1, 0, 1, 0],\n",
       "       [0, 1, 0, 1, 0, 1, 0, 1],\n",
       "       [1, 0, 1, 0, 1, 0, 1, 0],\n",
       "       [0, 1, 0, 1, 0, 1, 0, 1],\n",
       "       [1, 0, 1, 0, 1, 0, 1, 0],\n",
       "       [0, 1, 0, 1, 0, 1, 0, 1],\n",
       "       [1, 0, 1, 0, 1, 0, 1, 0]])"
      ]
     },
     "execution_count": 79,
     "metadata": {},
     "output_type": "execute_result"
    }
   ],
   "source": [
    "Z = np.zeros((8,8), dtype=int)\n",
    "Z[1::2,::2] = 1\n",
    "Z[::2,1::2] = 1\n",
    "Z"
   ]
  },
  {
   "cell_type": "code",
   "execution_count": null,
   "metadata": {},
   "outputs": [],
   "source": []
  }
 ],
 "metadata": {
  "kernelspec": {
   "display_name": "Python 3",
   "language": "python",
   "name": "python3"
  },
  "language_info": {
   "codemirror_mode": {
    "name": "ipython",
    "version": 3
   },
   "file_extension": ".py",
   "mimetype": "text/x-python",
   "name": "python",
   "nbconvert_exporter": "python",
   "pygments_lexer": "ipython3",
   "version": "3.6.5"
  }
 },
 "nbformat": 4,
 "nbformat_minor": 2
}
