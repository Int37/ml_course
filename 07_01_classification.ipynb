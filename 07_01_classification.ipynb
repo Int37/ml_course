{
 "cells": [
  {
   "cell_type": "markdown",
   "metadata": {
    "colab_type": "text",
    "id": "vOleqggSy0ty"
   },
   "source": [
    "# Workshop 7. Классификация.\n",
    "\n",
    "1. Скачайте этот ноутбук к себе.\n",
    "2. Заполните пропущенные ячейки, отвечая на заданные вопросы. Там должен быть код! (если не сказано обратное)\n",
    "3. Сохраните результат в своём гитхаб репозитории.\n",
    "\n",
    "### Полезная литература\n",
    "\n",
    "- [ODS - классификация](https://habrahabr.ru/company/ods/blog/322534/)\n",
    "- [Коллаборативная фильтрация - рекомендательная система](https://ru.wikipedia.org/wiki/%D0%9A%D0%BE%D0%BB%D0%BB%D0%B0%D0%B1%D0%BE%D1%80%D0%B0%D1%82%D0%B8%D0%B2%D0%BD%D0%B0%D1%8F_%D1%84%D0%B8%D0%BB%D1%8C%D1%82%D1%80%D0%B0%D1%86%D0%B8%D1%8F)\n",
    "- [Метрики расстояний - косинусная, минковского, проклятье размерности ](http://www.machinelearning.ru/wiki/images/9/9a/Sem1_knn.pdf)\n",
    "- [Offtop: метрики качества рекомендаьельных систем](https://habrahabr.ru/company/dca/blog/281066/)"
   ]
  },
  {
   "cell_type": "markdown",
   "metadata": {
    "colab_type": "text",
    "id": "XKuvIRBgy3JF"
   },
   "source": []
  },
  {
   "cell_type": "markdown",
   "metadata": {
    "colab_type": "text",
    "id": "QZWWcdn8y0t4"
   },
   "source": [
    "## kNN - ближайшие соседи\n",
    "\n",
    "Рассмотрим задачу из соревнования [Amazon Employee Access Challenge](https://www.kaggle.com/c/amazon-employee-access-challenge).\n",
    "\n",
    "В данной задаче предлагается предсказать, будет ли одобрен запрос сотрудника на получение доступа к тому или иному ресурсу. Все признаки являются категориальными."
   ]
  },
  {
   "cell_type": "code",
   "execution_count": 0,
   "metadata": {
    "colab": {},
    "colab_type": "code",
    "id": "u2vz4HJ5y0t7"
   },
   "outputs": [],
   "source": [
    "%matplotlib inline\n",
    "import pandas as pd\n",
    "import numpy as np\n",
    "from matplotlib import pyplot as plt\n",
    "import seaborn as sns\n",
    "from sklearn.model_selection import train_test_split, KFold, cross_val_score\n",
    "from sklearn.neighbors import KNeighborsClassifier\n",
    "from sklearn.metrics import classification_report, confusion_matrix\n",
    "from sklearn.preprocessing import scale"
   ]
  },
  {
   "cell_type": "code",
   "execution_count": 2,
   "metadata": {
    "colab": {
     "base_uri": "https://localhost:8080/",
     "height": 139
    },
    "colab_type": "code",
    "id": "63M6HJaMy6EE",
    "outputId": "03c4440b-1144-4a84-8c0d-e4681d1ea493"
   },
   "outputs": [
    {
     "name": "stdout",
     "output_type": "stream",
     "text": [
      "Cloning into 'ml_course'...\n",
      "remote: Enumerating objects: 49, done.\u001b[K\n",
      "remote: Counting objects: 100% (49/49), done.\u001b[K\n",
      "remote: Compressing objects: 100% (41/41), done.\u001b[K\n",
      "remote: Total 49 (delta 9), reused 45 (delta 5), pack-reused 0\u001b[K\n",
      "Unpacking objects: 100% (49/49), done.\n",
      "ml_course  sample_data\n"
     ]
    }
   ],
   "source": [
    "!git clone https://github.com/Int37/ml_course.git\n",
    "!ls"
   ]
  },
  {
   "cell_type": "code",
   "execution_count": 3,
   "metadata": {
    "colab": {
     "base_uri": "https://localhost:8080/",
     "height": 206
    },
    "colab_type": "code",
    "id": "qq9bC5pGy0uH",
    "outputId": "659e7574-bf79-45de-df4c-064c799eadc3"
   },
   "outputs": [
    {
     "data": {
      "text/html": [
       "<div>\n",
       "<style scoped>\n",
       "    .dataframe tbody tr th:only-of-type {\n",
       "        vertical-align: middle;\n",
       "    }\n",
       "\n",
       "    .dataframe tbody tr th {\n",
       "        vertical-align: top;\n",
       "    }\n",
       "\n",
       "    .dataframe thead th {\n",
       "        text-align: right;\n",
       "    }\n",
       "</style>\n",
       "<table border=\"1\" class=\"dataframe\">\n",
       "  <thead>\n",
       "    <tr style=\"text-align: right;\">\n",
       "      <th></th>\n",
       "      <th>ACTION</th>\n",
       "      <th>RESOURCE</th>\n",
       "      <th>MGR_ID</th>\n",
       "      <th>ROLE_ROLLUP_1</th>\n",
       "      <th>ROLE_ROLLUP_2</th>\n",
       "      <th>ROLE_DEPTNAME</th>\n",
       "      <th>ROLE_TITLE</th>\n",
       "      <th>ROLE_FAMILY_DESC</th>\n",
       "      <th>ROLE_FAMILY</th>\n",
       "      <th>ROLE_CODE</th>\n",
       "    </tr>\n",
       "  </thead>\n",
       "  <tbody>\n",
       "    <tr>\n",
       "      <th>0</th>\n",
       "      <td>1</td>\n",
       "      <td>39353</td>\n",
       "      <td>85475</td>\n",
       "      <td>117961</td>\n",
       "      <td>118300</td>\n",
       "      <td>123472</td>\n",
       "      <td>117905</td>\n",
       "      <td>117906</td>\n",
       "      <td>290919</td>\n",
       "      <td>117908</td>\n",
       "    </tr>\n",
       "    <tr>\n",
       "      <th>1</th>\n",
       "      <td>1</td>\n",
       "      <td>17183</td>\n",
       "      <td>1540</td>\n",
       "      <td>117961</td>\n",
       "      <td>118343</td>\n",
       "      <td>123125</td>\n",
       "      <td>118536</td>\n",
       "      <td>118536</td>\n",
       "      <td>308574</td>\n",
       "      <td>118539</td>\n",
       "    </tr>\n",
       "    <tr>\n",
       "      <th>2</th>\n",
       "      <td>1</td>\n",
       "      <td>36724</td>\n",
       "      <td>14457</td>\n",
       "      <td>118219</td>\n",
       "      <td>118220</td>\n",
       "      <td>117884</td>\n",
       "      <td>117879</td>\n",
       "      <td>267952</td>\n",
       "      <td>19721</td>\n",
       "      <td>117880</td>\n",
       "    </tr>\n",
       "    <tr>\n",
       "      <th>3</th>\n",
       "      <td>1</td>\n",
       "      <td>36135</td>\n",
       "      <td>5396</td>\n",
       "      <td>117961</td>\n",
       "      <td>118343</td>\n",
       "      <td>119993</td>\n",
       "      <td>118321</td>\n",
       "      <td>240983</td>\n",
       "      <td>290919</td>\n",
       "      <td>118322</td>\n",
       "    </tr>\n",
       "    <tr>\n",
       "      <th>4</th>\n",
       "      <td>1</td>\n",
       "      <td>42680</td>\n",
       "      <td>5905</td>\n",
       "      <td>117929</td>\n",
       "      <td>117930</td>\n",
       "      <td>119569</td>\n",
       "      <td>119323</td>\n",
       "      <td>123932</td>\n",
       "      <td>19793</td>\n",
       "      <td>119325</td>\n",
       "    </tr>\n",
       "  </tbody>\n",
       "</table>\n",
       "</div>"
      ],
      "text/plain": [
       "   ACTION  RESOURCE  MGR_ID  ROLE_ROLLUP_1  ROLE_ROLLUP_2  ROLE_DEPTNAME  \\\n",
       "0       1     39353   85475         117961         118300         123472   \n",
       "1       1     17183    1540         117961         118343         123125   \n",
       "2       1     36724   14457         118219         118220         117884   \n",
       "3       1     36135    5396         117961         118343         119993   \n",
       "4       1     42680    5905         117929         117930         119569   \n",
       "\n",
       "   ROLE_TITLE  ROLE_FAMILY_DESC  ROLE_FAMILY  ROLE_CODE  \n",
       "0      117905            117906       290919     117908  \n",
       "1      118536            118536       308574     118539  \n",
       "2      117879            267952        19721     117880  \n",
       "3      118321            240983       290919     118322  \n",
       "4      119323            123932        19793     119325  "
      ]
     },
     "execution_count": 3,
     "metadata": {
      "tags": []
     },
     "output_type": "execute_result"
    }
   ],
   "source": [
    "df = pd.read_csv('ml_course/data/amazon.csv')\n",
    "df.head()\n",
    "# ACTION - это целевой признак"
   ]
  },
  {
   "cell_type": "markdown",
   "metadata": {
    "colab_type": "text",
    "id": "WkqqNyF9y0uW"
   },
   "source": [
    "Обратим внимание, что выборка не сбалансированная. В качестве метрики качества будем использовть [f1-score](https://en.wikipedia.org/wiki/F1_score). \n",
    "$$F_1 = 2 \\cdot \\frac{\\mathrm{precision} \\cdot \\mathrm{recall}}{\\mathrm{precision} + \\mathrm{recall}}$$\n",
    "\n",
    "$$precision = \\frac{TP}{TP+FP}$$\n",
    "\n",
    "$$recall = \\frac{TP}{TP+FN}$$"
   ]
  },
  {
   "cell_type": "code",
   "execution_count": 4,
   "metadata": {
    "colab": {
     "base_uri": "https://localhost:8080/",
     "height": 368
    },
    "colab_type": "code",
    "id": "eXUQSkPJy0uY",
    "outputId": "c96860af-2967-4df9-9104-3f579eea8478"
   },
   "outputs": [
    {
     "name": "stdout",
     "output_type": "stream",
     "text": [
      "0.9421099209618847\n"
     ]
    },
    {
     "name": "stderr",
     "output_type": "stream",
     "text": [
      "/usr/local/lib/python3.6/dist-packages/seaborn/categorical.py:1428: FutureWarning: remove_na is deprecated and is a private function. Do not use.\n",
      "  stat_data = remove_na(group_data)\n"
     ]
    },
    {
     "data": {
      "text/plain": [
       "<matplotlib.axes._subplots.AxesSubplot at 0x7f1a43058d68>"
      ]
     },
     "execution_count": 4,
     "metadata": {
      "tags": []
     },
     "output_type": "execute_result"
    },
    {
     "data": {
      "image/png": "[encoded data removed]",
      "text/plain": [
       "<matplotlib.figure.Figure at 0x7f1a4424ee48>"
      ]
     },
     "metadata": {
      "tags": []
     },
     "output_type": "display_data"
    }
   ],
   "source": [
    "print(df['ACTION'].mean())\n",
    "sns.countplot('ACTION', data=df)"
   ]
  },
  {
   "cell_type": "code",
   "execution_count": 5,
   "metadata": {
    "colab": {
     "base_uri": "https://localhost:8080/",
     "height": 191
    },
    "colab_type": "code",
    "id": "MFm9chhqy0ui",
    "outputId": "bf48a32d-bd55-4313-b2d8-9142af7bcf26"
   },
   "outputs": [
    {
     "name": "stdout",
     "output_type": "stream",
     "text": [
      "ACTION 2\n",
      "RESOURCE 7518\n",
      "MGR_ID 4243\n",
      "ROLE_ROLLUP_1 128\n",
      "ROLE_ROLLUP_2 177\n",
      "ROLE_DEPTNAME 449\n",
      "ROLE_TITLE 343\n",
      "ROLE_FAMILY_DESC 2358\n",
      "ROLE_FAMILY 67\n",
      "ROLE_CODE 343\n"
     ]
    }
   ],
   "source": [
    "# число значений у признаков\n",
    "for col_name in df.columns:\n",
    "    print(col_name, len(df[col_name].unique()))"
   ]
  },
  {
   "cell_type": "code",
   "execution_count": 0,
   "metadata": {
    "colab": {},
    "colab_type": "code",
    "id": "sDiBh1B9y0ur"
   },
   "outputs": [],
   "source": [
    "X = df.drop(['ACTION'], axis=1)\n",
    "y = df['ACTION']\n",
    "X_train, X_test, y_train, y_test = train_test_split(X, y, random_state=42, test_size=0.4)"
   ]
  },
  {
   "cell_type": "markdown",
   "metadata": {
    "colab_type": "text",
    "id": "w31BpZtUy0uy"
   },
   "source": [
    "# Baseline\n",
    "\n",
    "Сразу проверим как ведет себя kNN на неподготовленных данных и без тюнинга. Зафиксируйте `n_neighbors=5`, `p=2`. \n",
    "\n",
    "- создайте экземпляр `KNeighborsClassifier` с указанными параметрами, обучите его методов `fit` и предскажите значения `predict` для треничровчных данных `X_test`.\n",
    "- постройте отчет классификации (classification_report)\n",
    "- постройте confusion matrix и нарисуйте heatmap\n",
    "\n",
    "Обратите внимание на confusion matrix. Какой вывод вы можете сделать из неё? Вспомните лекцию и значение ошибок 1 и 2 рода."
   ]
  },
  {
   "cell_type": "code",
   "execution_count": 7,
   "metadata": {
    "colab": {
     "base_uri": "https://localhost:8080/",
     "height": 173
    },
    "colab_type": "code",
    "id": "ZcL_zG-qy0u2",
    "outputId": "d48a6c83-aa89-4ec3-f581-73d9ff31a188"
   },
   "outputs": [
    {
     "name": "stdout",
     "output_type": "stream",
     "text": [
      "              precision    recall  f1-score   support\n",
      "\n",
      "           0       0.32      0.07      0.12       750\n",
      "           1       0.95      0.99      0.97     12358\n",
      "\n",
      "   micro avg       0.94      0.94      0.94     13108\n",
      "   macro avg       0.63      0.53      0.54     13108\n",
      "weighted avg       0.91      0.94      0.92     13108\n",
      "\n"
     ]
    }
   ],
   "source": [
    "model = KNeighborsClassifier(n_neighbors=5, p=2)\n",
    "model.fit(X_train,y_train)\n",
    "y_pred = model.predict(X_test)\n",
    "print(classification_report(y_test, y_pred))"
   ]
  },
  {
   "cell_type": "code",
   "execution_count": 8,
   "metadata": {
    "colab": {
     "base_uri": "https://localhost:8080/",
     "height": 282
    },
    "colab_type": "code",
    "id": "vFI9lE2Dy0vG",
    "outputId": "1749e943-e4d3-407c-f35d-ec4daf11550e"
   },
   "outputs": [
    {
     "data": {
      "text/plain": [
       "<matplotlib.axes._subplots.AxesSubplot at 0x7f1a40722be0>"
      ]
     },
     "execution_count": 8,
     "metadata": {
      "tags": []
     },
     "output_type": "execute_result"
    },
    {
     "data": {
      "image/png": "[encoded data removed]",
      "text/plain": [
       "<matplotlib.figure.Figure at 0x7f1a45c984a8>"
      ]
     },
     "metadata": {
      "tags": []
     },
     "output_type": "display_data"
    }
   ],
   "source": [
    "sns.heatmap(confusion_matrix(y_test, y_pred))"
   ]
  },
  {
   "cell_type": "markdown",
   "metadata": {
    "colab_type": "text",
    "id": "qccztTG9y0vU"
   },
   "source": [
    "При фиксированном `n_neighbors=10` проверьте значение метрики на кроссвалидации на 5-фолдах для разных значений `p` из `(1,2,4,6)`. При каком значение `p` метрика достигает максимума?\n",
    "\n",
    "При кроссвалидации у вас будет получаться N разных значений метрики. Выводите среднее значение и стандартное отклонение."
   ]
  },
  {
   "cell_type": "code",
   "execution_count": 9,
   "metadata": {
    "colab": {
     "base_uri": "https://localhost:8080/",
     "height": 86
    },
    "colab_type": "code",
    "id": "dVIEPr3qy0vZ",
    "outputId": "f4db7bd5-b7c3-4142-b6f8-70511d3d20bd"
   },
   "outputs": [
    {
     "name": "stdout",
     "output_type": "stream",
     "text": [
      "1 0.9399319046587721 0.0010437308800727346\n",
      "2 0.939575968194158 0.0011009567289135902\n",
      "4 0.9392198118061558 0.0010523795225393232\n",
      "6 0.9391689988506146 0.0011817658052121543\n"
     ]
    }
   ],
   "source": [
    "p = (1,2,4,6)\n",
    "for i in p:\n",
    "    model = KNeighborsClassifier(n_neighbors=10, p=i)\n",
    "    model.fit(X_test,y_test)\n",
    "    cross = cross_val_score(model,X_train,y_train,cv=5)\n",
    "    print(i,cross.mean(),cross.std())"
   ]
  },
  {
   "cell_type": "markdown",
   "metadata": {
    "colab_type": "text",
    "id": "__jnoy-2y0vg"
   },
   "source": [
    "# Счетчики\n",
    "\n",
    "Очевидно, что предсказывать лейбл объекта, используя при этом метрический алгоритм на категориальных признаках - это ОЧЕНЬ странная затея. Не удивительно что качество ужасное. Необходимо каким-то образом заменить категориальные признаки вещественными:\n",
    "\n",
    "- OneHotEncoding - это когда для каждого признака создают другие N бинарных признаков, где N - это количество категорий у категориального признака.\n",
    "- Счетчики - об это написано в статье http://blogs.technet.com/b/machinelearning/archive/2015/02/17/big-learning-made-easy-with-counts.aspx.\n",
    "\n",
    "Мы реализуем алгоритм Счетчиков. Его нет в sklearn, поэтому придется реализовать самому. \n",
    "\n",
    "Для каждого категориального признака создайте 3 других признака:\n",
    "1. Число `counts` объектов в обучающей выборке с таким же значением признака.\n",
    "2. Число `successes` объектов первого класса ($y = 1$) в обучающей выборке с таким же значением признака.\n",
    "3. Сглаженное отношение двух предыдущих величин: (`successes` + 1) / (`counts` + 2).\n",
    "\n",
    "Поскольку признаки, содержащие информацию о целевой переменной, могут привести к переобучению, может оказаться полезным сделать *фолдинг*: разбить обучающую выборку на $n$ частей, и для $i$-й части считать `counts` и `successes` по всем остальным частям. Для тестовой выборки используются счетчики, посчитанные по всей обучающей выборке. Реализуйте и такой вариант. Можно использовать $n = 3$.\n",
    "\n",
    "Обучение надо проводить только по новым признакам. Изначальные мы не используем.\n",
    "\n",
    "Подсказка - вам нужно для каждой колонки посчитать 2 аггрегации - сумму и количество. Для заменя конкретного значения посчитанным используйте функцию apply над датафреймом. Простое решение займет около 10 строк кода."
   ]
  },
  {
   "cell_type": "markdown",
   "metadata": {
    "colab_type": "text",
    "id": "0m4c4sSty0vi"
   },
   "source": [
    "![](http://images6.fanpop.com/image/photos/38600000/taiga-iamyourenemy-38620719-282-160.gif)"
   ]
  },
  {
   "cell_type": "code",
   "execution_count": 0,
   "metadata": {
    "colab": {},
    "colab_type": "code",
    "id": "v-mMeQosy0vk"
   },
   "outputs": [],
   "source": [
    "data = pd.DataFrame(index=df.index)\n",
    "for col_name in df.columns:\n",
    "    if col_name == 'ACTION':\n",
    "\n",
    "\n",
    "\n",
    "      \n",
    "      \n",
    "        continue\n",
    "    ds = df.groupby(col_name).count()['ACTION']\n",
    "    a = df[col_name].apply(lambda x: ds[x])\n",
    "    ac =df.groupby(col_name).sum()[\"ACTION\"]\n",
    "    b = df[col_name].apply(lambda x:ac[x])\n",
    "    c= (b + 1)/(a+2)\n",
    "    data[col_name+ '_Counts'] = a\n",
    "    data[col_name+ '_successes'] = b\n",
    "    data[col_name+ '_smoothness'] = c\n"
   ]
  },
  {
   "cell_type": "markdown",
   "metadata": {
    "colab_type": "text",
    "id": "0PSd1BYjy0vs"
   },
   "source": [
    "Проверьте какое качество теперь получается на кроссвалидации для новых данных."
   ]
  },
  {
   "cell_type": "code",
   "execution_count": 0,
   "metadata": {
    "colab": {},
    "colab_type": "code",
    "id": "5_l3JolucsAh"
   },
   "outputs": [],
   "source": [
    "X = data\n",
    "y = df['ACTION']\n",
    "X_train, X_test, y_train, y_test = train_test_split(X, y, random_state=42, test_size=0.4)"
   ]
  },
  {
   "cell_type": "code",
   "execution_count": 12,
   "metadata": {
    "colab": {
     "base_uri": "https://localhost:8080/",
     "height": 191
    },
    "colab_type": "code",
    "id": "WZwejiFZ1Z59",
    "outputId": "2cfe8384-b84d-41e1-a48c-70c8ee32b7b5"
   },
   "outputs": [
    {
     "name": "stdout",
     "output_type": "stream",
     "text": [
      "              precision    recall  f1-score   support\n",
      "\n",
      "           0       0.53      0.28      0.36       750\n",
      "           1       0.96      0.99      0.97     12358\n",
      "\n",
      "   micro avg       0.94      0.94      0.94     13108\n",
      "   macro avg       0.74      0.63      0.67     13108\n",
      "weighted avg       0.93      0.94      0.94     13108\n",
      "\n"
     ]
    },
    {
     "data": {
      "text/plain": [
       "0.9441562617956067"
      ]
     },
     "execution_count": 12,
     "metadata": {
      "tags": []
     },
     "output_type": "execute_result"
    }
   ],
   "source": [
    "model = KNeighborsClassifier(n_neighbors=5, p=2)\n",
    "model.fit(X_train,y_train)\n",
    "y_pred = model.predict(X_test)\n",
    "print(classification_report(y_test, y_pred))\n",
    "cross_val_score(model,X_test,y_test,cv=5).mean()"
   ]
  },
  {
   "cell_type": "code",
   "execution_count": 0,
   "metadata": {
    "colab": {},
    "colab_type": "code",
    "id": "wCJo6Jdyy0vu"
   },
   "outputs": [],
   "source": []
  },
  {
   "cell_type": "markdown",
   "metadata": {
    "colab_type": "text",
    "id": "asAjWY26y0vz"
   },
   "source": [
    "- постройте отчет классификации (classification_report)\n",
    "- постройте confusion matrix и нарисуйте heatmap\n",
    "\n",
    "Оцените на сколько улучшилось качество."
   ]
  },
  {
   "cell_type": "code",
   "execution_count": 13,
   "metadata": {
    "colab": {
     "base_uri": "https://localhost:8080/",
     "height": 440
    },
    "colab_type": "code",
    "id": "Ke8Qblvey0v2",
    "outputId": "fd17de21-2288-471c-d899-4d7ae8e40249"
   },
   "outputs": [
    {
     "name": "stdout",
     "output_type": "stream",
     "text": [
      "              precision    recall  f1-score   support\n",
      "\n",
      "           0       0.53      0.28      0.36       750\n",
      "           1       0.96      0.99      0.97     12358\n",
      "\n",
      "   micro avg       0.94      0.94      0.94     13108\n",
      "   macro avg       0.74      0.63      0.67     13108\n",
      "weighted avg       0.93      0.94      0.94     13108\n",
      "\n"
     ]
    },
    {
     "data": {
      "text/plain": [
       "<matplotlib.axes._subplots.AxesSubplot at 0x7f1a3f41d128>"
      ]
     },
     "execution_count": 13,
     "metadata": {
      "tags": []
     },
     "output_type": "execute_result"
    },
    {
     "data": {
      "image/png": "[encoded data removed]",
      "text/plain": [
       "<matplotlib.figure.Figure at 0x7f1a3f445ba8>"
      ]
     },
     "metadata": {
      "tags": []
     },
     "output_type": "display_data"
    }
   ],
   "source": [
    "y_pred = model.predict(X_test)\n",
    "print(classification_report(y_test, y_pred))\n",
    "sns.heatmap(confusion_matrix(y_test, y_pred))"
   ]
  },
  {
   "cell_type": "markdown",
   "metadata": {
    "colab_type": "text",
    "id": "7kn_gq2Ny0v8"
   },
   "source": [
    "# Co-co-co-combo\n",
    "\n",
    "Добавьте в исходную выборку парные признаки — то есть для каждой пары $(f_i, f_j)$, $i < j$ исходных категориальных признаков добавьте новый категориальный признак $f_{ij}$, значение которого является конкатенацией значений $f_i$ и $f_j$ (желательно через какой-нибудь специальный символ во избежание коллизий). Посчитайте счетчики для этой выборки, найдите качество метода $k$ ближайших соседей с наилучшим $k$ (с фолдингом и без)."
   ]
  },
  {
   "cell_type": "code",
   "execution_count": 0,
   "metadata": {
    "colab": {},
    "colab_type": "code",
    "id": "M4Mg3xeby0v_"
   },
   "outputs": [],
   "source": [
    "df_combo = df.copy()\n",
    "\n"
   ]
  },
  {
   "cell_type": "code",
   "execution_count": 0,
   "metadata": {
    "colab": {},
    "colab_type": "code",
    "id": "Fiok3IPO5Fbs"
   },
   "outputs": [],
   "source": [
    "data_combo = pd.DataFrame(index=df_combo.index)\n",
    "for col_name in df_combo.columns:\n",
    "  if col_name == 'ACTION':\n",
    "    continue\n",
    "  for j in df_combo:\n",
    "    if j == col_name:\n",
    "      continue\n",
    "    if col_name == 'ACTION':\n",
    "      continue\n",
    "    new_colum=df_combo[col_name].astype(str) + '_'+df_combo[j].astype(str)\n",
    "    data_combo[col_name+j] = new_colum"
   ]
  },
  {
   "cell_type": "code",
   "execution_count": 0,
   "metadata": {
    "colab": {},
    "colab_type": "code",
    "id": "qb8g-s3Y5Nwi"
   },
   "outputs": [],
   "source": [
    "data_combo = data_combo.join(df['ACTION'])"
   ]
  },
  {
   "cell_type": "code",
   "execution_count": 0,
   "metadata": {
    "colab": {},
    "colab_type": "code",
    "id": "Bt_ncE-ty0wE"
   },
   "outputs": [],
   "source": [
    "data_combo_n = pd.DataFrame(index=df_combo.index)\n",
    "for col_name in data_combo:\n",
    "    if col_name == 'ACTION':\n",
    "        continue\n",
    "    ds = data_combo.groupby(col_name).count()['ACTION']\n",
    "    a = data_combo[col_name].apply(lambda x: ds[x])\n",
    "    ac =data_combo.groupby(col_name).sum()[\"ACTION\"]\n",
    "    b = data_combo[col_name].apply(lambda x:ac[x])\n",
    "    c= (b + 1)/(a+2)\n",
    "    data_combo_n[col_name+ '_Counts'] = a\n",
    "    data_combo_n[col_name+ '_successes'] = b\n",
    "    data_combo_n[col_name+ '_smoothness'] = c\n"
   ]
  },
  {
   "cell_type": "markdown",
   "metadata": {
    "colab_type": "text",
    "id": "d3Dl321ny0wS"
   },
   "source": [
    "- постройте отчет классификации (classification_report)\n",
    "- постройте confusion matrix и нарисуйте heatmap\n",
    "\n",
    "Оцените на сколько улучшилось качество. Не похоже ли это на переобусение?\n",
    "\n",
    "Внимание! Обучение на этом этапе может быть долгим. На i5 16GB кроссвалидация на 5 фолдах заняла 30 минут!"
   ]
  },
  {
   "cell_type": "code",
   "execution_count": 0,
   "metadata": {
    "colab": {},
    "colab_type": "code",
    "id": "CabJ4AZVy0wU"
   },
   "outputs": [],
   "source": [
    "data_combo_n"
   ]
  },
  {
   "cell_type": "markdown",
   "metadata": {
    "colab_type": "text",
    "id": "zT-CacrGy0wd"
   },
   "source": [
    "# Дополнительное задание\n",
    "\n",
    "Для тех, кто хочет поставить точку в рекомендательных системах.\n",
    "\n",
    "### Рекомендательная система и kNN\n",
    "\n",
    "В прошлый раз мы использовали kMeans, тоже метрический алгоритм, но кластеризации, для построения \"рекомендательной ситсемы\". На самом деле тогда вы строили кластеры жанров/фильмов на основе предпочтений пользователей.  \n",
    "\n",
    "Теперь попробуем kNN для рекомендаций. Мы построим модель, в которой не будет кластеров, но которая сможет выводить список наиболее похожих фильмов для заданного.\n",
    "\n",
    "Подготовка датасета похожа на то, что мы уже делали. Отличаться будет только последний пункт, когда мы запустим kNN с косинусной метрикой.\n",
    "\n",
    "Будем использовать известный нам [датасет с оценками фильмов](http://www.cs.umn.edu/GroupLens). Только в этот раз мы не будем кластеризовывать жанры, а будем рекомендовать похожие фильмы, основываясь на оценках других пользователей. То есть мы будем по факту предсказывать предпочтение нового пользователя на основе других.\n",
    "\n",
    "Для рекомендательной системы в датасете в объектами будут пользователи, а признаками - оценки фильма данным пользователем.\n",
    "\n",
    "![](https://i.imgur.com/hn3xjZl.png)\n",
    "\n",
    "Мы будем использовать метрический алгоритм для поиска ближайших соседей, тем самым рекомендовать фильмы близкие к данному."
   ]
  },
  {
   "cell_type": "code",
   "execution_count": 0,
   "metadata": {
    "colab": {},
    "colab_type": "code",
    "id": "TMtogiouy0wh"
   },
   "outputs": [],
   "source": [
    "import pandas as pd\n",
    "import numpy as np\n",
    "from matplotlib import pyplot as plt\n",
    "import seaborn as sns\n",
    "%matplotlib inline"
   ]
  },
  {
   "cell_type": "code",
   "execution_count": 0,
   "metadata": {
    "colab": {},
    "colab_type": "code",
    "id": "YeSuORHsy0wp"
   },
   "outputs": [],
   "source": [
    "movies = pd.read_csv('ml_course/data/imdb_movies.csv.gz', index_col='movieId')\n",
    "ratings = pd.read_csv('ml_course/data/imdb_ratings.csv.gz')\n",
    "\n",
    "print(movies.shape)\n",
    "print(ratings.shape)"
   ]
  },
  {
   "cell_type": "code",
   "execution_count": 0,
   "metadata": {
    "colab": {},
    "colab_type": "code",
    "id": "lppp8lmty0w0"
   },
   "outputs": [],
   "source": [
    "mov/ies.head()"
   ]
  },
  {
   "cell_type": "code",
   "execution_count": 0,
   "metadata": {
    "colab": {},
    "colab_type": "code",
    "id": "mfmGnTSFy0w9"
   },
   "outputs": [],
   "source": [
    "ratings.head()"
   ]
  },
  {
   "cell_type": "markdown",
   "metadata": {
    "colab_type": "text",
    "id": "gJ2Cuxd7y0xH"
   },
   "source": [
    "### 1.1 Поиск популярных фильмов (3 балла)\n",
    "\n",
    "Среди всех фильмов есть не популярные, для которых выставлена 1-2 оценки. Такого количества данных не достаточно, поэтому нужно срезать много фильмов с маленьким числом отзывов.\n",
    "\n",
    "Посчтитайте количество оценок для каждого фильма."
   ]
  },
  {
   "cell_type": "code",
   "execution_count": 0,
   "metadata": {
    "colab": {},
    "colab_type": "code",
    "id": "1u3Zn3ZCy0xI"
   },
   "outputs": [],
   "source": [
    "ratings.columns"
   ]
  },
  {
   "cell_type": "code",
   "execution_count": 0,
   "metadata": {
    "colab": {},
    "colab_type": "code",
    "id": "UDp0J_9dQzso"
   },
   "outputs": [],
   "source": [
    "count_film= ratings.groupby('movieId').count()['rating'].reset_index().rename(columns={'rating':'count'}).sort_values(by='count', ascending=False)\n",
    "ratings = ratings.merge(count_film,left_on=\"movieId\",right_on = \"movieId\")"
   ]
  },
  {
   "cell_type": "code",
   "execution_count": 0,
   "metadata": {
    "colab": {},
    "colab_type": "code",
    "id": "gQjHAZBry0xP"
   },
   "outputs": [],
   "source": [
    "k=ratings['movieId'].value_counts()\n",
    "\n",
    "good_film =list(dict(k[k<20]).keys())\n",
    "pd.DataFrame(k)\n",
    "type(k)"
   ]
  },
  {
   "cell_type": "code",
   "execution_count": 0,
   "metadata": {
    "colab": {},
    "colab_type": "code",
    "id": "wdzMpjJXQtkH"
   },
   "outputs": [],
   "source": []
  },
  {
   "cell_type": "markdown",
   "metadata": {
    "colab_type": "text",
    "id": "23D5wEmyy0xc"
   },
   "source": [
    "Выведите сводную статистику по количеству оценок фильмов. (общее число фильмов, среднее количество оценок, дисперсию, квантили)"
   ]
  },
  {
   "cell_type": "code",
   "execution_count": 0,
   "metadata": {
    "colab": {},
    "colab_type": "code",
    "id": "9JOa50hdy0xd"
   },
   "outputs": [],
   "source": [
    "k.describe()"
   ]
  },
  {
   "cell_type": "markdown",
   "metadata": {
    "colab_type": "text",
    "id": "wGU2nwWNy0xq"
   },
   "source": [
    "Как мы видим `75%` квантиль показывет, что `75%` фильмов имело очень мало оценок. Нам столько будет недостаточно. Посчтитайте квантили в диапазоне от `75%` до `100%` с шагом в `1%`. Выберите тот квантиль, при котором количество оценок равно 20. Напишите какой это квантиль. Напишите сколько всего фильмов останется, если отбросить все фильмы у которых рейтинг меньше этого квантиля."
   ]
  },
  {
   "cell_type": "code",
   "execution_count": 0,
   "metadata": {
    "colab": {},
    "colab_type": "code",
    "id": "sDyQRh9Vy0xr"
   },
   "outputs": [],
   "source": [
    "k.quantile(np.arange(.75, 1, .01))[k.quantile(np.arange(.75, 1, .01)) == 20]\n",
    "movies"
   ]
  },
  {
   "cell_type": "markdown",
   "metadata": {
    "colab_type": "text",
    "id": "aldOgzSvy0xy"
   },
   "source": [
    "### 1.2 Соединяем таблицы (1 балл)\n",
    "\n",
    "Будет немного не удобно искать фильмы по их идентификаторам, нам нужны названия. Поэтому соедините две таблицы `ratings` и `movies` по `movieId` и отфильтруйте отзывы на редкие фильмы, которые мы нашли в предыдущем шаге. Выведите первые 5 элементов полученного датасета."
   ]
  },
  {
   "cell_type": "code",
   "execution_count": 0,
   "metadata": {
    "colab": {},
    "colab_type": "code",
    "id": "i0U7Ioa2y0xy"
   },
   "outputs": [],
   "source": [
    "df_movie= ratings.join(movies,on = \"movieId\")\n",
    "df_movie\n",
    "df_movie = df_movie[df_movie[\"count\"]>20]\n",
    "df_movie=df_movie.pivot_table(values='rating', index='userId', columns='title')\n",
    "df_movie"
   ]
  },
  {
   "cell_type": "markdown",
   "metadata": {
    "colab_type": "text",
    "id": "AxMsUNVCy0x2"
   },
   "source": [
    "### 1.3 Матрица Фильмы-Пользователи\n",
    "\n",
    "В нашем случае мы будем искать похожие фильмы, поэтому сделайте из датасета оценок матрицу, где в строках фильмы, в колонках пользователи, а в ячейках оценки. Пропущенные значение, то есть отсутсвие оценки, заполните 0.\n",
    "\n",
    "Для увеличения скорости выполнения алгоритма ближайших соседей примените функцию [`scipy.sparse.csc_matrix`](https://docs.scipy.org/doc/scipy/reference/generated/scipy.sparse.csr_matrix.html),  которая создаст плотное представление нашей разреженой матрицы."
   ]
  },
  {
   "cell_type": "code",
   "execution_count": 0,
   "metadata": {
    "colab": {},
    "colab_type": "code",
    "id": "IIQGhq6Uy0x3"
   },
   "outputs": [],
   "source": [
    "from scipy.sparse import csr_matrix\n",
    "a=csr_matrix(df_movie)\n",
    "a.toarray()"
   ]
  },
  {
   "cell_type": "markdown",
   "metadata": {
    "colab_type": "text",
    "id": "i9q6ekC-y0x9"
   },
   "source": [
    "### 1.4 Тренировка модели рекомендаций \n",
    "\n",
    "Так как по сути у нас нет каких-то меток классов, мы будем использовать алгоритма без учителя [`sklearn.neighbors.NearestNeighbors`](http://scikit-learn.org/stable/modules/generated/sklearn.neighbors.NearestNeighbors.html). Научите его по данным нашей матрицы пользователей-фильмов и напишите **функцию**, принимающую на вход название фильма и возвращающую список из 6 рекомендованых фильмов, начиная от более похожего.\n",
    "\n",
    "Для определения \"похожести\" двух фильмов мы будем использовать косинусную меру, вместо евклидова или минковского:\n",
    "\n",
    "$$\\LARGE cos(\\overrightarrow{x},\\overrightarrow{y}) = \\frac{\\overrightarrow{x} \\cdot \\overrightarrow{y}}{||\\overrightarrow{x}|| \\times ||\\overrightarrow{y}||}$$"
   ]
  },
  {
   "cell_type": "code",
   "execution_count": 0,
   "metadata": {
    "colab": {},
    "colab_type": "code",
    "id": "lPEpr8MEy0x-"
   },
   "outputs": [],
   "source": []
  },
  {
   "cell_type": "code",
   "execution_count": 0,
   "metadata": {
    "colab": {},
    "colab_type": "code",
    "id": "U-lcbbB5y0yE"
   },
   "outputs": [],
   "source": [
    "def similar(name='Pulp Fiction (1994)', n=6):\n",
    "    # Тут какой-то код\n",
    "    pass"
   ]
  },
  {
   "cell_type": "markdown",
   "metadata": {
    "colab_type": "text",
    "id": "mtOGjR9dy0yG"
   },
   "source": [
    "Выведите рекомендации для фильмов:\n",
    "- `Pulp Fiction (1994)`\n",
    "- `Star Wars: Episode V - The Empire Strikes Back (1980)`\n",
    "- `Lord of the Rings: The Two Towers, The (2002)`"
   ]
  },
  {
   "cell_type": "code",
   "execution_count": 0,
   "metadata": {
    "colab": {},
    "colab_type": "code",
    "id": "J7wB7aDBy0yI"
   },
   "outputs": [],
   "source": [
    "similar('Pulp Fiction (1994)')"
   ]
  },
  {
   "cell_type": "code",
   "execution_count": 0,
   "metadata": {
    "colab": {},
    "colab_type": "code",
    "id": "6vuw7Nfhy0yM"
   },
   "outputs": [],
   "source": [
    "similar('Star Wars: Episode V - The Empire Strikes Back (1980)')"
   ]
  },
  {
   "cell_type": "code",
   "execution_count": 0,
   "metadata": {
    "colab": {},
    "colab_type": "code",
    "id": "rchlW0-Ay0yQ"
   },
   "outputs": [],
   "source": [
    "similar('Lord of the Rings: The Two Towers, The (2002)')"
   ]
  },
  {
   "cell_type": "markdown",
   "metadata": {
    "colab_type": "text",
    "id": "8hBKvELyy0yZ"
   },
   "source": [
    "### 1.5 Как посчитать качество рекомендации?\n",
    "\n",
    "Как посчитать качество нашей классификации? У нас нет учителя, нет отложенной выборки. Мы просто посчитали все рейтинги и на основе них сделали предположения о похожести товаров. \n",
    "\n",
    "А как вы думаете можно проверить качество нашей рекомендательной системы? Напишите развернутый ответ своими словами."
   ]
  },
  {
   "cell_type": "markdown",
   "metadata": {
    "colab_type": "text",
    "id": "JCAFinagy0yb"
   },
   "source": [
    "???"
   ]
  },
  {
   "cell_type": "markdown",
   "metadata": {
    "colab_type": "text",
    "id": "jLE25-1uy0yc"
   },
   "source": [
    "![](https://69.media.tumblr.com/06a071083b3e62cd76f31af07ecb895f/tumblr_p49r4rWXG21uxovwqo1_540.gif)"
   ]
  }
 ],
 "metadata": {
  "colab": {
   "collapsed_sections": [],
   "name": "07-01-classification.ipynb",
   "provenance": [],
   "version": "0.3.2"
  },
  "kernelspec": {
   "display_name": "Python 3",
   "language": "python",
   "name": "python3"
  },
  "language_info": {
   "codemirror_mode": {
    "name": "ipython",
    "version": 3
   },
   "file_extension": ".py",
   "mimetype": "text/x-python",
   "name": "python",
   "nbconvert_exporter": "python",
   "pygments_lexer": "ipython3",
   "version": "3.6.6"
  }
 },
 "nbformat": 4,
 "nbformat_minor": 1
}
