{
  "nbformat": 4,
  "nbformat_minor": 0,
  "metadata": {
    "colab": {
      "name": "09-02-decision-trees-workshop.ipynb",
      "version": "0.3.2",
      "provenance": [],
      "collapsed_sections": []
    },
    "kernelspec": {
      "display_name": "Python 3",
      "language": "python",
      "name": "python3"
    }
  },
  "cells": [
    {
      "metadata": {
        "id": "TH0hHabIZ6Ev",
        "colab_type": "text"
      },
      "cell_type": "markdown",
      "source": [
        "# Домашняя работа 9. Деревья решений. (32 балла)\n",
        "\n",
        "1. Скачайте этот ноутбук к себе.\n",
        "2. Заполните пропущенные ячейки, отвечая на заданные вопросы. Там должен быть код! (если не сказано обратное)\n",
        "3. Сохраните результат в своём гитхаб репозитории.\n",
        "\n",
        "## Полезная литература\n",
        "\n",
        "- [Habrahabr: ODS деревья решений](https://habrahabr.ru/company/ods/blog/322534/#derevo-resheniy)\n",
        "- [ВМК МГУ семинары по решающим деревьям](https://github.com/esokolov/ml-course-msu/blob/master/ML16/lecture-notes/Sem04_trees.pdf)\n",
        "- [Sklearn Decision Trees](http://scikit-learn.org/stable/modules/tree.html)"
      ]
    },
    {
      "metadata": {
        "id": "UrFOt2e9Z6FG",
        "colab_type": "text"
      },
      "cell_type": "markdown",
      "source": [
        "## 1. Сравнение моделей деревьев\n",
        "\n",
        "В этом блоке вы сравните разные конфигурации композиций деревьев:\n",
        "- DecisionTree\n",
        "- Bagging\n",
        "- Bagging с другими настройками подбора признаков для разбиения\n",
        "- RandomForest\n",
        "\n",
        "Будем использовать [датасет с винишком](https://archive.ics.uci.edu/ml/datasets/wine+quality) - это задача то ли классификации то ли регресси - нужно предсказывать качество вина. Будем думать что это классификация.\n",
        "\n",
        "![](https://upload.wikimedia.org/wikipedia/en/thumb/7/7c/Lulz_Security.svg/300px-Lulz_Security.svg.png)"
      ]
    },
    {
      "metadata": {
        "id": "x9YdauxBINe4",
        "colab_type": "code",
        "colab": {}
      },
      "cell_type": "code",
      "source": [
        "import numpy as np"
      ],
      "execution_count": 0,
      "outputs": []
    },
    {
      "metadata": {
        "id": "8iFJLohcaRE_",
        "colab_type": "code",
        "outputId": "82f002fd-3910-49db-d0ec-c82728c50883",
        "colab": {
          "base_uri": "https://localhost:8080/",
          "height": 34
        }
      },
      "cell_type": "code",
      "source": [
        "!git clone https://gitlab.7bits.it/isiganov/ml-course.git"
      ],
      "execution_count": 74,
      "outputs": [
        {
          "output_type": "stream",
          "text": [
            "fatal: destination path 'ml-course' already exists and is not an empty directory.\n"
          ],
          "name": "stdout"
        }
      ]
    },
    {
      "metadata": {
        "id": "PT7tX_qyZ6FT",
        "colab_type": "text"
      },
      "cell_type": "markdown",
      "source": [
        "### 1.1 Чтение данных (1 балла)\n",
        "\n",
        "Данные лежат как обычно в `'../../data/winequality-red.csv.gz'`.\n",
        "\n",
        "- Прочитайте их с помощью pandas\n",
        "- нарисуйте countplot целевого признака `quality`.\n",
        "- Что вы думаете по поводу количества представителей каждого класса.\n",
        "- Разбейте данные на X и y."
      ]
    },
    {
      "metadata": {
        "id": "lD1Xzp5LZ6Fp",
        "colab_type": "code",
        "colab": {}
      },
      "cell_type": "code",
      "source": [
        "import pandas as pd\n",
        "df = pd.read_csv('ml-course/data/winequality-red.csv.gz',compression='gzip',sep=';')"
      ],
      "execution_count": 0,
      "outputs": []
    },
    {
      "metadata": {
        "id": "FiXvHZK0Z6GO",
        "colab_type": "code",
        "outputId": "1a27bfa2-6fc1-434f-a8be-8759e0227e8a",
        "colab": {
          "base_uri": "https://localhost:8080/",
          "height": 2009
        }
      },
      "cell_type": "code",
      "source": [
        "df"
      ],
      "execution_count": 76,
      "outputs": [
        {
          "output_type": "execute_result",
          "data": {
            "text/html": [
              "<div>\n",
              "<style scoped>\n",
              "    .dataframe tbody tr th:only-of-type {\n",
              "        vertical-align: middle;\n",
              "    }\n",
              "\n",
              "    .dataframe tbody tr th {\n",
              "        vertical-align: top;\n",
              "    }\n",
              "\n",
              "    .dataframe thead th {\n",
              "        text-align: right;\n",
              "    }\n",
              "</style>\n",
              "<table border=\"1\" class=\"dataframe\">\n",
              "  <thead>\n",
              "    <tr style=\"text-align: right;\">\n",
              "      <th></th>\n",
              "      <th>fixed acidity</th>\n",
              "      <th>volatile acidity</th>\n",
              "      <th>citric acid</th>\n",
              "      <th>residual sugar</th>\n",
              "      <th>chlorides</th>\n",
              "      <th>free sulfur dioxide</th>\n",
              "      <th>total sulfur dioxide</th>\n",
              "      <th>density</th>\n",
              "      <th>pH</th>\n",
              "      <th>sulphates</th>\n",
              "      <th>alcohol</th>\n",
              "      <th>quality</th>\n",
              "    </tr>\n",
              "  </thead>\n",
              "  <tbody>\n",
              "    <tr>\n",
              "      <th>0</th>\n",
              "      <td>7.4</td>\n",
              "      <td>0.700</td>\n",
              "      <td>0.00</td>\n",
              "      <td>1.9</td>\n",
              "      <td>0.076</td>\n",
              "      <td>11.0</td>\n",
              "      <td>34.0</td>\n",
              "      <td>0.99780</td>\n",
              "      <td>3.51</td>\n",
              "      <td>0.56</td>\n",
              "      <td>9.4</td>\n",
              "      <td>5</td>\n",
              "    </tr>\n",
              "    <tr>\n",
              "      <th>1</th>\n",
              "      <td>7.8</td>\n",
              "      <td>0.880</td>\n",
              "      <td>0.00</td>\n",
              "      <td>2.6</td>\n",
              "      <td>0.098</td>\n",
              "      <td>25.0</td>\n",
              "      <td>67.0</td>\n",
              "      <td>0.99680</td>\n",
              "      <td>3.20</td>\n",
              "      <td>0.68</td>\n",
              "      <td>9.8</td>\n",
              "      <td>5</td>\n",
              "    </tr>\n",
              "    <tr>\n",
              "      <th>2</th>\n",
              "      <td>7.8</td>\n",
              "      <td>0.760</td>\n",
              "      <td>0.04</td>\n",
              "      <td>2.3</td>\n",
              "      <td>0.092</td>\n",
              "      <td>15.0</td>\n",
              "      <td>54.0</td>\n",
              "      <td>0.99700</td>\n",
              "      <td>3.26</td>\n",
              "      <td>0.65</td>\n",
              "      <td>9.8</td>\n",
              "      <td>5</td>\n",
              "    </tr>\n",
              "    <tr>\n",
              "      <th>3</th>\n",
              "      <td>11.2</td>\n",
              "      <td>0.280</td>\n",
              "      <td>0.56</td>\n",
              "      <td>1.9</td>\n",
              "      <td>0.075</td>\n",
              "      <td>17.0</td>\n",
              "      <td>60.0</td>\n",
              "      <td>0.99800</td>\n",
              "      <td>3.16</td>\n",
              "      <td>0.58</td>\n",
              "      <td>9.8</td>\n",
              "      <td>6</td>\n",
              "    </tr>\n",
              "    <tr>\n",
              "      <th>4</th>\n",
              "      <td>7.4</td>\n",
              "      <td>0.700</td>\n",
              "      <td>0.00</td>\n",
              "      <td>1.9</td>\n",
              "      <td>0.076</td>\n",
              "      <td>11.0</td>\n",
              "      <td>34.0</td>\n",
              "      <td>0.99780</td>\n",
              "      <td>3.51</td>\n",
              "      <td>0.56</td>\n",
              "      <td>9.4</td>\n",
              "      <td>5</td>\n",
              "    </tr>\n",
              "    <tr>\n",
              "      <th>5</th>\n",
              "      <td>7.4</td>\n",
              "      <td>0.660</td>\n",
              "      <td>0.00</td>\n",
              "      <td>1.8</td>\n",
              "      <td>0.075</td>\n",
              "      <td>13.0</td>\n",
              "      <td>40.0</td>\n",
              "      <td>0.99780</td>\n",
              "      <td>3.51</td>\n",
              "      <td>0.56</td>\n",
              "      <td>9.4</td>\n",
              "      <td>5</td>\n",
              "    </tr>\n",
              "    <tr>\n",
              "      <th>6</th>\n",
              "      <td>7.9</td>\n",
              "      <td>0.600</td>\n",
              "      <td>0.06</td>\n",
              "      <td>1.6</td>\n",
              "      <td>0.069</td>\n",
              "      <td>15.0</td>\n",
              "      <td>59.0</td>\n",
              "      <td>0.99640</td>\n",
              "      <td>3.30</td>\n",
              "      <td>0.46</td>\n",
              "      <td>9.4</td>\n",
              "      <td>5</td>\n",
              "    </tr>\n",
              "    <tr>\n",
              "      <th>7</th>\n",
              "      <td>7.3</td>\n",
              "      <td>0.650</td>\n",
              "      <td>0.00</td>\n",
              "      <td>1.2</td>\n",
              "      <td>0.065</td>\n",
              "      <td>15.0</td>\n",
              "      <td>21.0</td>\n",
              "      <td>0.99460</td>\n",
              "      <td>3.39</td>\n",
              "      <td>0.47</td>\n",
              "      <td>10.0</td>\n",
              "      <td>7</td>\n",
              "    </tr>\n",
              "    <tr>\n",
              "      <th>8</th>\n",
              "      <td>7.8</td>\n",
              "      <td>0.580</td>\n",
              "      <td>0.02</td>\n",
              "      <td>2.0</td>\n",
              "      <td>0.073</td>\n",
              "      <td>9.0</td>\n",
              "      <td>18.0</td>\n",
              "      <td>0.99680</td>\n",
              "      <td>3.36</td>\n",
              "      <td>0.57</td>\n",
              "      <td>9.5</td>\n",
              "      <td>7</td>\n",
              "    </tr>\n",
              "    <tr>\n",
              "      <th>9</th>\n",
              "      <td>7.5</td>\n",
              "      <td>0.500</td>\n",
              "      <td>0.36</td>\n",
              "      <td>6.1</td>\n",
              "      <td>0.071</td>\n",
              "      <td>17.0</td>\n",
              "      <td>102.0</td>\n",
              "      <td>0.99780</td>\n",
              "      <td>3.35</td>\n",
              "      <td>0.80</td>\n",
              "      <td>10.5</td>\n",
              "      <td>5</td>\n",
              "    </tr>\n",
              "    <tr>\n",
              "      <th>10</th>\n",
              "      <td>6.7</td>\n",
              "      <td>0.580</td>\n",
              "      <td>0.08</td>\n",
              "      <td>1.8</td>\n",
              "      <td>0.097</td>\n",
              "      <td>15.0</td>\n",
              "      <td>65.0</td>\n",
              "      <td>0.99590</td>\n",
              "      <td>3.28</td>\n",
              "      <td>0.54</td>\n",
              "      <td>9.2</td>\n",
              "      <td>5</td>\n",
              "    </tr>\n",
              "    <tr>\n",
              "      <th>11</th>\n",
              "      <td>7.5</td>\n",
              "      <td>0.500</td>\n",
              "      <td>0.36</td>\n",
              "      <td>6.1</td>\n",
              "      <td>0.071</td>\n",
              "      <td>17.0</td>\n",
              "      <td>102.0</td>\n",
              "      <td>0.99780</td>\n",
              "      <td>3.35</td>\n",
              "      <td>0.80</td>\n",
              "      <td>10.5</td>\n",
              "      <td>5</td>\n",
              "    </tr>\n",
              "    <tr>\n",
              "      <th>12</th>\n",
              "      <td>5.6</td>\n",
              "      <td>0.615</td>\n",
              "      <td>0.00</td>\n",
              "      <td>1.6</td>\n",
              "      <td>0.089</td>\n",
              "      <td>16.0</td>\n",
              "      <td>59.0</td>\n",
              "      <td>0.99430</td>\n",
              "      <td>3.58</td>\n",
              "      <td>0.52</td>\n",
              "      <td>9.9</td>\n",
              "      <td>5</td>\n",
              "    </tr>\n",
              "    <tr>\n",
              "      <th>13</th>\n",
              "      <td>7.8</td>\n",
              "      <td>0.610</td>\n",
              "      <td>0.29</td>\n",
              "      <td>1.6</td>\n",
              "      <td>0.114</td>\n",
              "      <td>9.0</td>\n",
              "      <td>29.0</td>\n",
              "      <td>0.99740</td>\n",
              "      <td>3.26</td>\n",
              "      <td>1.56</td>\n",
              "      <td>9.1</td>\n",
              "      <td>5</td>\n",
              "    </tr>\n",
              "    <tr>\n",
              "      <th>14</th>\n",
              "      <td>8.9</td>\n",
              "      <td>0.620</td>\n",
              "      <td>0.18</td>\n",
              "      <td>3.8</td>\n",
              "      <td>0.176</td>\n",
              "      <td>52.0</td>\n",
              "      <td>145.0</td>\n",
              "      <td>0.99860</td>\n",
              "      <td>3.16</td>\n",
              "      <td>0.88</td>\n",
              "      <td>9.2</td>\n",
              "      <td>5</td>\n",
              "    </tr>\n",
              "    <tr>\n",
              "      <th>15</th>\n",
              "      <td>8.9</td>\n",
              "      <td>0.620</td>\n",
              "      <td>0.19</td>\n",
              "      <td>3.9</td>\n",
              "      <td>0.170</td>\n",
              "      <td>51.0</td>\n",
              "      <td>148.0</td>\n",
              "      <td>0.99860</td>\n",
              "      <td>3.17</td>\n",
              "      <td>0.93</td>\n",
              "      <td>9.2</td>\n",
              "      <td>5</td>\n",
              "    </tr>\n",
              "    <tr>\n",
              "      <th>16</th>\n",
              "      <td>8.5</td>\n",
              "      <td>0.280</td>\n",
              "      <td>0.56</td>\n",
              "      <td>1.8</td>\n",
              "      <td>0.092</td>\n",
              "      <td>35.0</td>\n",
              "      <td>103.0</td>\n",
              "      <td>0.99690</td>\n",
              "      <td>3.30</td>\n",
              "      <td>0.75</td>\n",
              "      <td>10.5</td>\n",
              "      <td>7</td>\n",
              "    </tr>\n",
              "    <tr>\n",
              "      <th>17</th>\n",
              "      <td>8.1</td>\n",
              "      <td>0.560</td>\n",
              "      <td>0.28</td>\n",
              "      <td>1.7</td>\n",
              "      <td>0.368</td>\n",
              "      <td>16.0</td>\n",
              "      <td>56.0</td>\n",
              "      <td>0.99680</td>\n",
              "      <td>3.11</td>\n",
              "      <td>1.28</td>\n",
              "      <td>9.3</td>\n",
              "      <td>5</td>\n",
              "    </tr>\n",
              "    <tr>\n",
              "      <th>18</th>\n",
              "      <td>7.4</td>\n",
              "      <td>0.590</td>\n",
              "      <td>0.08</td>\n",
              "      <td>4.4</td>\n",
              "      <td>0.086</td>\n",
              "      <td>6.0</td>\n",
              "      <td>29.0</td>\n",
              "      <td>0.99740</td>\n",
              "      <td>3.38</td>\n",
              "      <td>0.50</td>\n",
              "      <td>9.0</td>\n",
              "      <td>4</td>\n",
              "    </tr>\n",
              "    <tr>\n",
              "      <th>19</th>\n",
              "      <td>7.9</td>\n",
              "      <td>0.320</td>\n",
              "      <td>0.51</td>\n",
              "      <td>1.8</td>\n",
              "      <td>0.341</td>\n",
              "      <td>17.0</td>\n",
              "      <td>56.0</td>\n",
              "      <td>0.99690</td>\n",
              "      <td>3.04</td>\n",
              "      <td>1.08</td>\n",
              "      <td>9.2</td>\n",
              "      <td>6</td>\n",
              "    </tr>\n",
              "    <tr>\n",
              "      <th>20</th>\n",
              "      <td>8.9</td>\n",
              "      <td>0.220</td>\n",
              "      <td>0.48</td>\n",
              "      <td>1.8</td>\n",
              "      <td>0.077</td>\n",
              "      <td>29.0</td>\n",
              "      <td>60.0</td>\n",
              "      <td>0.99680</td>\n",
              "      <td>3.39</td>\n",
              "      <td>0.53</td>\n",
              "      <td>9.4</td>\n",
              "      <td>6</td>\n",
              "    </tr>\n",
              "    <tr>\n",
              "      <th>21</th>\n",
              "      <td>7.6</td>\n",
              "      <td>0.390</td>\n",
              "      <td>0.31</td>\n",
              "      <td>2.3</td>\n",
              "      <td>0.082</td>\n",
              "      <td>23.0</td>\n",
              "      <td>71.0</td>\n",
              "      <td>0.99820</td>\n",
              "      <td>3.52</td>\n",
              "      <td>0.65</td>\n",
              "      <td>9.7</td>\n",
              "      <td>5</td>\n",
              "    </tr>\n",
              "    <tr>\n",
              "      <th>22</th>\n",
              "      <td>7.9</td>\n",
              "      <td>0.430</td>\n",
              "      <td>0.21</td>\n",
              "      <td>1.6</td>\n",
              "      <td>0.106</td>\n",
              "      <td>10.0</td>\n",
              "      <td>37.0</td>\n",
              "      <td>0.99660</td>\n",
              "      <td>3.17</td>\n",
              "      <td>0.91</td>\n",
              "      <td>9.5</td>\n",
              "      <td>5</td>\n",
              "    </tr>\n",
              "    <tr>\n",
              "      <th>23</th>\n",
              "      <td>8.5</td>\n",
              "      <td>0.490</td>\n",
              "      <td>0.11</td>\n",
              "      <td>2.3</td>\n",
              "      <td>0.084</td>\n",
              "      <td>9.0</td>\n",
              "      <td>67.0</td>\n",
              "      <td>0.99680</td>\n",
              "      <td>3.17</td>\n",
              "      <td>0.53</td>\n",
              "      <td>9.4</td>\n",
              "      <td>5</td>\n",
              "    </tr>\n",
              "    <tr>\n",
              "      <th>24</th>\n",
              "      <td>6.9</td>\n",
              "      <td>0.400</td>\n",
              "      <td>0.14</td>\n",
              "      <td>2.4</td>\n",
              "      <td>0.085</td>\n",
              "      <td>21.0</td>\n",
              "      <td>40.0</td>\n",
              "      <td>0.99680</td>\n",
              "      <td>3.43</td>\n",
              "      <td>0.63</td>\n",
              "      <td>9.7</td>\n",
              "      <td>6</td>\n",
              "    </tr>\n",
              "    <tr>\n",
              "      <th>25</th>\n",
              "      <td>6.3</td>\n",
              "      <td>0.390</td>\n",
              "      <td>0.16</td>\n",
              "      <td>1.4</td>\n",
              "      <td>0.080</td>\n",
              "      <td>11.0</td>\n",
              "      <td>23.0</td>\n",
              "      <td>0.99550</td>\n",
              "      <td>3.34</td>\n",
              "      <td>0.56</td>\n",
              "      <td>9.3</td>\n",
              "      <td>5</td>\n",
              "    </tr>\n",
              "    <tr>\n",
              "      <th>26</th>\n",
              "      <td>7.6</td>\n",
              "      <td>0.410</td>\n",
              "      <td>0.24</td>\n",
              "      <td>1.8</td>\n",
              "      <td>0.080</td>\n",
              "      <td>4.0</td>\n",
              "      <td>11.0</td>\n",
              "      <td>0.99620</td>\n",
              "      <td>3.28</td>\n",
              "      <td>0.59</td>\n",
              "      <td>9.5</td>\n",
              "      <td>5</td>\n",
              "    </tr>\n",
              "    <tr>\n",
              "      <th>27</th>\n",
              "      <td>7.9</td>\n",
              "      <td>0.430</td>\n",
              "      <td>0.21</td>\n",
              "      <td>1.6</td>\n",
              "      <td>0.106</td>\n",
              "      <td>10.0</td>\n",
              "      <td>37.0</td>\n",
              "      <td>0.99660</td>\n",
              "      <td>3.17</td>\n",
              "      <td>0.91</td>\n",
              "      <td>9.5</td>\n",
              "      <td>5</td>\n",
              "    </tr>\n",
              "    <tr>\n",
              "      <th>28</th>\n",
              "      <td>7.1</td>\n",
              "      <td>0.710</td>\n",
              "      <td>0.00</td>\n",
              "      <td>1.9</td>\n",
              "      <td>0.080</td>\n",
              "      <td>14.0</td>\n",
              "      <td>35.0</td>\n",
              "      <td>0.99720</td>\n",
              "      <td>3.47</td>\n",
              "      <td>0.55</td>\n",
              "      <td>9.4</td>\n",
              "      <td>5</td>\n",
              "    </tr>\n",
              "    <tr>\n",
              "      <th>29</th>\n",
              "      <td>7.8</td>\n",
              "      <td>0.645</td>\n",
              "      <td>0.00</td>\n",
              "      <td>2.0</td>\n",
              "      <td>0.082</td>\n",
              "      <td>8.0</td>\n",
              "      <td>16.0</td>\n",
              "      <td>0.99640</td>\n",
              "      <td>3.38</td>\n",
              "      <td>0.59</td>\n",
              "      <td>9.8</td>\n",
              "      <td>6</td>\n",
              "    </tr>\n",
              "    <tr>\n",
              "      <th>...</th>\n",
              "      <td>...</td>\n",
              "      <td>...</td>\n",
              "      <td>...</td>\n",
              "      <td>...</td>\n",
              "      <td>...</td>\n",
              "      <td>...</td>\n",
              "      <td>...</td>\n",
              "      <td>...</td>\n",
              "      <td>...</td>\n",
              "      <td>...</td>\n",
              "      <td>...</td>\n",
              "      <td>...</td>\n",
              "    </tr>\n",
              "    <tr>\n",
              "      <th>1569</th>\n",
              "      <td>6.2</td>\n",
              "      <td>0.510</td>\n",
              "      <td>0.14</td>\n",
              "      <td>1.9</td>\n",
              "      <td>0.056</td>\n",
              "      <td>15.0</td>\n",
              "      <td>34.0</td>\n",
              "      <td>0.99396</td>\n",
              "      <td>3.48</td>\n",
              "      <td>0.57</td>\n",
              "      <td>11.5</td>\n",
              "      <td>6</td>\n",
              "    </tr>\n",
              "    <tr>\n",
              "      <th>1570</th>\n",
              "      <td>6.4</td>\n",
              "      <td>0.360</td>\n",
              "      <td>0.53</td>\n",
              "      <td>2.2</td>\n",
              "      <td>0.230</td>\n",
              "      <td>19.0</td>\n",
              "      <td>35.0</td>\n",
              "      <td>0.99340</td>\n",
              "      <td>3.37</td>\n",
              "      <td>0.93</td>\n",
              "      <td>12.4</td>\n",
              "      <td>6</td>\n",
              "    </tr>\n",
              "    <tr>\n",
              "      <th>1571</th>\n",
              "      <td>6.4</td>\n",
              "      <td>0.380</td>\n",
              "      <td>0.14</td>\n",
              "      <td>2.2</td>\n",
              "      <td>0.038</td>\n",
              "      <td>15.0</td>\n",
              "      <td>25.0</td>\n",
              "      <td>0.99514</td>\n",
              "      <td>3.44</td>\n",
              "      <td>0.65</td>\n",
              "      <td>11.1</td>\n",
              "      <td>6</td>\n",
              "    </tr>\n",
              "    <tr>\n",
              "      <th>1572</th>\n",
              "      <td>7.3</td>\n",
              "      <td>0.690</td>\n",
              "      <td>0.32</td>\n",
              "      <td>2.2</td>\n",
              "      <td>0.069</td>\n",
              "      <td>35.0</td>\n",
              "      <td>104.0</td>\n",
              "      <td>0.99632</td>\n",
              "      <td>3.33</td>\n",
              "      <td>0.51</td>\n",
              "      <td>9.5</td>\n",
              "      <td>5</td>\n",
              "    </tr>\n",
              "    <tr>\n",
              "      <th>1573</th>\n",
              "      <td>6.0</td>\n",
              "      <td>0.580</td>\n",
              "      <td>0.20</td>\n",
              "      <td>2.4</td>\n",
              "      <td>0.075</td>\n",
              "      <td>15.0</td>\n",
              "      <td>50.0</td>\n",
              "      <td>0.99467</td>\n",
              "      <td>3.58</td>\n",
              "      <td>0.67</td>\n",
              "      <td>12.5</td>\n",
              "      <td>6</td>\n",
              "    </tr>\n",
              "    <tr>\n",
              "      <th>1574</th>\n",
              "      <td>5.6</td>\n",
              "      <td>0.310</td>\n",
              "      <td>0.78</td>\n",
              "      <td>13.9</td>\n",
              "      <td>0.074</td>\n",
              "      <td>23.0</td>\n",
              "      <td>92.0</td>\n",
              "      <td>0.99677</td>\n",
              "      <td>3.39</td>\n",
              "      <td>0.48</td>\n",
              "      <td>10.5</td>\n",
              "      <td>6</td>\n",
              "    </tr>\n",
              "    <tr>\n",
              "      <th>1575</th>\n",
              "      <td>7.5</td>\n",
              "      <td>0.520</td>\n",
              "      <td>0.40</td>\n",
              "      <td>2.2</td>\n",
              "      <td>0.060</td>\n",
              "      <td>12.0</td>\n",
              "      <td>20.0</td>\n",
              "      <td>0.99474</td>\n",
              "      <td>3.26</td>\n",
              "      <td>0.64</td>\n",
              "      <td>11.8</td>\n",
              "      <td>6</td>\n",
              "    </tr>\n",
              "    <tr>\n",
              "      <th>1576</th>\n",
              "      <td>8.0</td>\n",
              "      <td>0.300</td>\n",
              "      <td>0.63</td>\n",
              "      <td>1.6</td>\n",
              "      <td>0.081</td>\n",
              "      <td>16.0</td>\n",
              "      <td>29.0</td>\n",
              "      <td>0.99588</td>\n",
              "      <td>3.30</td>\n",
              "      <td>0.78</td>\n",
              "      <td>10.8</td>\n",
              "      <td>6</td>\n",
              "    </tr>\n",
              "    <tr>\n",
              "      <th>1577</th>\n",
              "      <td>6.2</td>\n",
              "      <td>0.700</td>\n",
              "      <td>0.15</td>\n",
              "      <td>5.1</td>\n",
              "      <td>0.076</td>\n",
              "      <td>13.0</td>\n",
              "      <td>27.0</td>\n",
              "      <td>0.99622</td>\n",
              "      <td>3.54</td>\n",
              "      <td>0.60</td>\n",
              "      <td>11.9</td>\n",
              "      <td>6</td>\n",
              "    </tr>\n",
              "    <tr>\n",
              "      <th>1578</th>\n",
              "      <td>6.8</td>\n",
              "      <td>0.670</td>\n",
              "      <td>0.15</td>\n",
              "      <td>1.8</td>\n",
              "      <td>0.118</td>\n",
              "      <td>13.0</td>\n",
              "      <td>20.0</td>\n",
              "      <td>0.99540</td>\n",
              "      <td>3.42</td>\n",
              "      <td>0.67</td>\n",
              "      <td>11.3</td>\n",
              "      <td>6</td>\n",
              "    </tr>\n",
              "    <tr>\n",
              "      <th>1579</th>\n",
              "      <td>6.2</td>\n",
              "      <td>0.560</td>\n",
              "      <td>0.09</td>\n",
              "      <td>1.7</td>\n",
              "      <td>0.053</td>\n",
              "      <td>24.0</td>\n",
              "      <td>32.0</td>\n",
              "      <td>0.99402</td>\n",
              "      <td>3.54</td>\n",
              "      <td>0.60</td>\n",
              "      <td>11.3</td>\n",
              "      <td>5</td>\n",
              "    </tr>\n",
              "    <tr>\n",
              "      <th>1580</th>\n",
              "      <td>7.4</td>\n",
              "      <td>0.350</td>\n",
              "      <td>0.33</td>\n",
              "      <td>2.4</td>\n",
              "      <td>0.068</td>\n",
              "      <td>9.0</td>\n",
              "      <td>26.0</td>\n",
              "      <td>0.99470</td>\n",
              "      <td>3.36</td>\n",
              "      <td>0.60</td>\n",
              "      <td>11.9</td>\n",
              "      <td>6</td>\n",
              "    </tr>\n",
              "    <tr>\n",
              "      <th>1581</th>\n",
              "      <td>6.2</td>\n",
              "      <td>0.560</td>\n",
              "      <td>0.09</td>\n",
              "      <td>1.7</td>\n",
              "      <td>0.053</td>\n",
              "      <td>24.0</td>\n",
              "      <td>32.0</td>\n",
              "      <td>0.99402</td>\n",
              "      <td>3.54</td>\n",
              "      <td>0.60</td>\n",
              "      <td>11.3</td>\n",
              "      <td>5</td>\n",
              "    </tr>\n",
              "    <tr>\n",
              "      <th>1582</th>\n",
              "      <td>6.1</td>\n",
              "      <td>0.715</td>\n",
              "      <td>0.10</td>\n",
              "      <td>2.6</td>\n",
              "      <td>0.053</td>\n",
              "      <td>13.0</td>\n",
              "      <td>27.0</td>\n",
              "      <td>0.99362</td>\n",
              "      <td>3.57</td>\n",
              "      <td>0.50</td>\n",
              "      <td>11.9</td>\n",
              "      <td>5</td>\n",
              "    </tr>\n",
              "    <tr>\n",
              "      <th>1583</th>\n",
              "      <td>6.2</td>\n",
              "      <td>0.460</td>\n",
              "      <td>0.29</td>\n",
              "      <td>2.1</td>\n",
              "      <td>0.074</td>\n",
              "      <td>32.0</td>\n",
              "      <td>98.0</td>\n",
              "      <td>0.99578</td>\n",
              "      <td>3.33</td>\n",
              "      <td>0.62</td>\n",
              "      <td>9.8</td>\n",
              "      <td>5</td>\n",
              "    </tr>\n",
              "    <tr>\n",
              "      <th>1584</th>\n",
              "      <td>6.7</td>\n",
              "      <td>0.320</td>\n",
              "      <td>0.44</td>\n",
              "      <td>2.4</td>\n",
              "      <td>0.061</td>\n",
              "      <td>24.0</td>\n",
              "      <td>34.0</td>\n",
              "      <td>0.99484</td>\n",
              "      <td>3.29</td>\n",
              "      <td>0.80</td>\n",
              "      <td>11.6</td>\n",
              "      <td>7</td>\n",
              "    </tr>\n",
              "    <tr>\n",
              "      <th>1585</th>\n",
              "      <td>7.2</td>\n",
              "      <td>0.390</td>\n",
              "      <td>0.44</td>\n",
              "      <td>2.6</td>\n",
              "      <td>0.066</td>\n",
              "      <td>22.0</td>\n",
              "      <td>48.0</td>\n",
              "      <td>0.99494</td>\n",
              "      <td>3.30</td>\n",
              "      <td>0.84</td>\n",
              "      <td>11.5</td>\n",
              "      <td>6</td>\n",
              "    </tr>\n",
              "    <tr>\n",
              "      <th>1586</th>\n",
              "      <td>7.5</td>\n",
              "      <td>0.310</td>\n",
              "      <td>0.41</td>\n",
              "      <td>2.4</td>\n",
              "      <td>0.065</td>\n",
              "      <td>34.0</td>\n",
              "      <td>60.0</td>\n",
              "      <td>0.99492</td>\n",
              "      <td>3.34</td>\n",
              "      <td>0.85</td>\n",
              "      <td>11.4</td>\n",
              "      <td>6</td>\n",
              "    </tr>\n",
              "    <tr>\n",
              "      <th>1587</th>\n",
              "      <td>5.8</td>\n",
              "      <td>0.610</td>\n",
              "      <td>0.11</td>\n",
              "      <td>1.8</td>\n",
              "      <td>0.066</td>\n",
              "      <td>18.0</td>\n",
              "      <td>28.0</td>\n",
              "      <td>0.99483</td>\n",
              "      <td>3.55</td>\n",
              "      <td>0.66</td>\n",
              "      <td>10.9</td>\n",
              "      <td>6</td>\n",
              "    </tr>\n",
              "    <tr>\n",
              "      <th>1588</th>\n",
              "      <td>7.2</td>\n",
              "      <td>0.660</td>\n",
              "      <td>0.33</td>\n",
              "      <td>2.5</td>\n",
              "      <td>0.068</td>\n",
              "      <td>34.0</td>\n",
              "      <td>102.0</td>\n",
              "      <td>0.99414</td>\n",
              "      <td>3.27</td>\n",
              "      <td>0.78</td>\n",
              "      <td>12.8</td>\n",
              "      <td>6</td>\n",
              "    </tr>\n",
              "    <tr>\n",
              "      <th>1589</th>\n",
              "      <td>6.6</td>\n",
              "      <td>0.725</td>\n",
              "      <td>0.20</td>\n",
              "      <td>7.8</td>\n",
              "      <td>0.073</td>\n",
              "      <td>29.0</td>\n",
              "      <td>79.0</td>\n",
              "      <td>0.99770</td>\n",
              "      <td>3.29</td>\n",
              "      <td>0.54</td>\n",
              "      <td>9.2</td>\n",
              "      <td>5</td>\n",
              "    </tr>\n",
              "    <tr>\n",
              "      <th>1590</th>\n",
              "      <td>6.3</td>\n",
              "      <td>0.550</td>\n",
              "      <td>0.15</td>\n",
              "      <td>1.8</td>\n",
              "      <td>0.077</td>\n",
              "      <td>26.0</td>\n",
              "      <td>35.0</td>\n",
              "      <td>0.99314</td>\n",
              "      <td>3.32</td>\n",
              "      <td>0.82</td>\n",
              "      <td>11.6</td>\n",
              "      <td>6</td>\n",
              "    </tr>\n",
              "    <tr>\n",
              "      <th>1591</th>\n",
              "      <td>5.4</td>\n",
              "      <td>0.740</td>\n",
              "      <td>0.09</td>\n",
              "      <td>1.7</td>\n",
              "      <td>0.089</td>\n",
              "      <td>16.0</td>\n",
              "      <td>26.0</td>\n",
              "      <td>0.99402</td>\n",
              "      <td>3.67</td>\n",
              "      <td>0.56</td>\n",
              "      <td>11.6</td>\n",
              "      <td>6</td>\n",
              "    </tr>\n",
              "    <tr>\n",
              "      <th>1592</th>\n",
              "      <td>6.3</td>\n",
              "      <td>0.510</td>\n",
              "      <td>0.13</td>\n",
              "      <td>2.3</td>\n",
              "      <td>0.076</td>\n",
              "      <td>29.0</td>\n",
              "      <td>40.0</td>\n",
              "      <td>0.99574</td>\n",
              "      <td>3.42</td>\n",
              "      <td>0.75</td>\n",
              "      <td>11.0</td>\n",
              "      <td>6</td>\n",
              "    </tr>\n",
              "    <tr>\n",
              "      <th>1593</th>\n",
              "      <td>6.8</td>\n",
              "      <td>0.620</td>\n",
              "      <td>0.08</td>\n",
              "      <td>1.9</td>\n",
              "      <td>0.068</td>\n",
              "      <td>28.0</td>\n",
              "      <td>38.0</td>\n",
              "      <td>0.99651</td>\n",
              "      <td>3.42</td>\n",
              "      <td>0.82</td>\n",
              "      <td>9.5</td>\n",
              "      <td>6</td>\n",
              "    </tr>\n",
              "    <tr>\n",
              "      <th>1594</th>\n",
              "      <td>6.2</td>\n",
              "      <td>0.600</td>\n",
              "      <td>0.08</td>\n",
              "      <td>2.0</td>\n",
              "      <td>0.090</td>\n",
              "      <td>32.0</td>\n",
              "      <td>44.0</td>\n",
              "      <td>0.99490</td>\n",
              "      <td>3.45</td>\n",
              "      <td>0.58</td>\n",
              "      <td>10.5</td>\n",
              "      <td>5</td>\n",
              "    </tr>\n",
              "    <tr>\n",
              "      <th>1595</th>\n",
              "      <td>5.9</td>\n",
              "      <td>0.550</td>\n",
              "      <td>0.10</td>\n",
              "      <td>2.2</td>\n",
              "      <td>0.062</td>\n",
              "      <td>39.0</td>\n",
              "      <td>51.0</td>\n",
              "      <td>0.99512</td>\n",
              "      <td>3.52</td>\n",
              "      <td>0.76</td>\n",
              "      <td>11.2</td>\n",
              "      <td>6</td>\n",
              "    </tr>\n",
              "    <tr>\n",
              "      <th>1596</th>\n",
              "      <td>6.3</td>\n",
              "      <td>0.510</td>\n",
              "      <td>0.13</td>\n",
              "      <td>2.3</td>\n",
              "      <td>0.076</td>\n",
              "      <td>29.0</td>\n",
              "      <td>40.0</td>\n",
              "      <td>0.99574</td>\n",
              "      <td>3.42</td>\n",
              "      <td>0.75</td>\n",
              "      <td>11.0</td>\n",
              "      <td>6</td>\n",
              "    </tr>\n",
              "    <tr>\n",
              "      <th>1597</th>\n",
              "      <td>5.9</td>\n",
              "      <td>0.645</td>\n",
              "      <td>0.12</td>\n",
              "      <td>2.0</td>\n",
              "      <td>0.075</td>\n",
              "      <td>32.0</td>\n",
              "      <td>44.0</td>\n",
              "      <td>0.99547</td>\n",
              "      <td>3.57</td>\n",
              "      <td>0.71</td>\n",
              "      <td>10.2</td>\n",
              "      <td>5</td>\n",
              "    </tr>\n",
              "    <tr>\n",
              "      <th>1598</th>\n",
              "      <td>6.0</td>\n",
              "      <td>0.310</td>\n",
              "      <td>0.47</td>\n",
              "      <td>3.6</td>\n",
              "      <td>0.067</td>\n",
              "      <td>18.0</td>\n",
              "      <td>42.0</td>\n",
              "      <td>0.99549</td>\n",
              "      <td>3.39</td>\n",
              "      <td>0.66</td>\n",
              "      <td>11.0</td>\n",
              "      <td>6</td>\n",
              "    </tr>\n",
              "  </tbody>\n",
              "</table>\n",
              "<p>1599 rows × 12 columns</p>\n",
              "</div>"
            ],
            "text/plain": [
              "      fixed acidity  volatile acidity  citric acid  residual sugar  chlorides  \\\n",
              "0               7.4             0.700         0.00             1.9      0.076   \n",
              "1               7.8             0.880         0.00             2.6      0.098   \n",
              "2               7.8             0.760         0.04             2.3      0.092   \n",
              "3              11.2             0.280         0.56             1.9      0.075   \n",
              "4               7.4             0.700         0.00             1.9      0.076   \n",
              "5               7.4             0.660         0.00             1.8      0.075   \n",
              "6               7.9             0.600         0.06             1.6      0.069   \n",
              "7               7.3             0.650         0.00             1.2      0.065   \n",
              "8               7.8             0.580         0.02             2.0      0.073   \n",
              "9               7.5             0.500         0.36             6.1      0.071   \n",
              "10              6.7             0.580         0.08             1.8      0.097   \n",
              "11              7.5             0.500         0.36             6.1      0.071   \n",
              "12              5.6             0.615         0.00             1.6      0.089   \n",
              "13              7.8             0.610         0.29             1.6      0.114   \n",
              "14              8.9             0.620         0.18             3.8      0.176   \n",
              "15              8.9             0.620         0.19             3.9      0.170   \n",
              "16              8.5             0.280         0.56             1.8      0.092   \n",
              "17              8.1             0.560         0.28             1.7      0.368   \n",
              "18              7.4             0.590         0.08             4.4      0.086   \n",
              "19              7.9             0.320         0.51             1.8      0.341   \n",
              "20              8.9             0.220         0.48             1.8      0.077   \n",
              "21              7.6             0.390         0.31             2.3      0.082   \n",
              "22              7.9             0.430         0.21             1.6      0.106   \n",
              "23              8.5             0.490         0.11             2.3      0.084   \n",
              "24              6.9             0.400         0.14             2.4      0.085   \n",
              "25              6.3             0.390         0.16             1.4      0.080   \n",
              "26              7.6             0.410         0.24             1.8      0.080   \n",
              "27              7.9             0.430         0.21             1.6      0.106   \n",
              "28              7.1             0.710         0.00             1.9      0.080   \n",
              "29              7.8             0.645         0.00             2.0      0.082   \n",
              "...             ...               ...          ...             ...        ...   \n",
              "1569            6.2             0.510         0.14             1.9      0.056   \n",
              "1570            6.4             0.360         0.53             2.2      0.230   \n",
              "1571            6.4             0.380         0.14             2.2      0.038   \n",
              "1572            7.3             0.690         0.32             2.2      0.069   \n",
              "1573            6.0             0.580         0.20             2.4      0.075   \n",
              "1574            5.6             0.310         0.78            13.9      0.074   \n",
              "1575            7.5             0.520         0.40             2.2      0.060   \n",
              "1576            8.0             0.300         0.63             1.6      0.081   \n",
              "1577            6.2             0.700         0.15             5.1      0.076   \n",
              "1578            6.8             0.670         0.15             1.8      0.118   \n",
              "1579            6.2             0.560         0.09             1.7      0.053   \n",
              "1580            7.4             0.350         0.33             2.4      0.068   \n",
              "1581            6.2             0.560         0.09             1.7      0.053   \n",
              "1582            6.1             0.715         0.10             2.6      0.053   \n",
              "1583            6.2             0.460         0.29             2.1      0.074   \n",
              "1584            6.7             0.320         0.44             2.4      0.061   \n",
              "1585            7.2             0.390         0.44             2.6      0.066   \n",
              "1586            7.5             0.310         0.41             2.4      0.065   \n",
              "1587            5.8             0.610         0.11             1.8      0.066   \n",
              "1588            7.2             0.660         0.33             2.5      0.068   \n",
              "1589            6.6             0.725         0.20             7.8      0.073   \n",
              "1590            6.3             0.550         0.15             1.8      0.077   \n",
              "1591            5.4             0.740         0.09             1.7      0.089   \n",
              "1592            6.3             0.510         0.13             2.3      0.076   \n",
              "1593            6.8             0.620         0.08             1.9      0.068   \n",
              "1594            6.2             0.600         0.08             2.0      0.090   \n",
              "1595            5.9             0.550         0.10             2.2      0.062   \n",
              "1596            6.3             0.510         0.13             2.3      0.076   \n",
              "1597            5.9             0.645         0.12             2.0      0.075   \n",
              "1598            6.0             0.310         0.47             3.6      0.067   \n",
              "\n",
              "      free sulfur dioxide  total sulfur dioxide  density    pH  sulphates  \\\n",
              "0                    11.0                  34.0  0.99780  3.51       0.56   \n",
              "1                    25.0                  67.0  0.99680  3.20       0.68   \n",
              "2                    15.0                  54.0  0.99700  3.26       0.65   \n",
              "3                    17.0                  60.0  0.99800  3.16       0.58   \n",
              "4                    11.0                  34.0  0.99780  3.51       0.56   \n",
              "5                    13.0                  40.0  0.99780  3.51       0.56   \n",
              "6                    15.0                  59.0  0.99640  3.30       0.46   \n",
              "7                    15.0                  21.0  0.99460  3.39       0.47   \n",
              "8                     9.0                  18.0  0.99680  3.36       0.57   \n",
              "9                    17.0                 102.0  0.99780  3.35       0.80   \n",
              "10                   15.0                  65.0  0.99590  3.28       0.54   \n",
              "11                   17.0                 102.0  0.99780  3.35       0.80   \n",
              "12                   16.0                  59.0  0.99430  3.58       0.52   \n",
              "13                    9.0                  29.0  0.99740  3.26       1.56   \n",
              "14                   52.0                 145.0  0.99860  3.16       0.88   \n",
              "15                   51.0                 148.0  0.99860  3.17       0.93   \n",
              "16                   35.0                 103.0  0.99690  3.30       0.75   \n",
              "17                   16.0                  56.0  0.99680  3.11       1.28   \n",
              "18                    6.0                  29.0  0.99740  3.38       0.50   \n",
              "19                   17.0                  56.0  0.99690  3.04       1.08   \n",
              "20                   29.0                  60.0  0.99680  3.39       0.53   \n",
              "21                   23.0                  71.0  0.99820  3.52       0.65   \n",
              "22                   10.0                  37.0  0.99660  3.17       0.91   \n",
              "23                    9.0                  67.0  0.99680  3.17       0.53   \n",
              "24                   21.0                  40.0  0.99680  3.43       0.63   \n",
              "25                   11.0                  23.0  0.99550  3.34       0.56   \n",
              "26                    4.0                  11.0  0.99620  3.28       0.59   \n",
              "27                   10.0                  37.0  0.99660  3.17       0.91   \n",
              "28                   14.0                  35.0  0.99720  3.47       0.55   \n",
              "29                    8.0                  16.0  0.99640  3.38       0.59   \n",
              "...                   ...                   ...      ...   ...        ...   \n",
              "1569                 15.0                  34.0  0.99396  3.48       0.57   \n",
              "1570                 19.0                  35.0  0.99340  3.37       0.93   \n",
              "1571                 15.0                  25.0  0.99514  3.44       0.65   \n",
              "1572                 35.0                 104.0  0.99632  3.33       0.51   \n",
              "1573                 15.0                  50.0  0.99467  3.58       0.67   \n",
              "1574                 23.0                  92.0  0.99677  3.39       0.48   \n",
              "1575                 12.0                  20.0  0.99474  3.26       0.64   \n",
              "1576                 16.0                  29.0  0.99588  3.30       0.78   \n",
              "1577                 13.0                  27.0  0.99622  3.54       0.60   \n",
              "1578                 13.0                  20.0  0.99540  3.42       0.67   \n",
              "1579                 24.0                  32.0  0.99402  3.54       0.60   \n",
              "1580                  9.0                  26.0  0.99470  3.36       0.60   \n",
              "1581                 24.0                  32.0  0.99402  3.54       0.60   \n",
              "1582                 13.0                  27.0  0.99362  3.57       0.50   \n",
              "1583                 32.0                  98.0  0.99578  3.33       0.62   \n",
              "1584                 24.0                  34.0  0.99484  3.29       0.80   \n",
              "1585                 22.0                  48.0  0.99494  3.30       0.84   \n",
              "1586                 34.0                  60.0  0.99492  3.34       0.85   \n",
              "1587                 18.0                  28.0  0.99483  3.55       0.66   \n",
              "1588                 34.0                 102.0  0.99414  3.27       0.78   \n",
              "1589                 29.0                  79.0  0.99770  3.29       0.54   \n",
              "1590                 26.0                  35.0  0.99314  3.32       0.82   \n",
              "1591                 16.0                  26.0  0.99402  3.67       0.56   \n",
              "1592                 29.0                  40.0  0.99574  3.42       0.75   \n",
              "1593                 28.0                  38.0  0.99651  3.42       0.82   \n",
              "1594                 32.0                  44.0  0.99490  3.45       0.58   \n",
              "1595                 39.0                  51.0  0.99512  3.52       0.76   \n",
              "1596                 29.0                  40.0  0.99574  3.42       0.75   \n",
              "1597                 32.0                  44.0  0.99547  3.57       0.71   \n",
              "1598                 18.0                  42.0  0.99549  3.39       0.66   \n",
              "\n",
              "      alcohol  quality  \n",
              "0         9.4        5  \n",
              "1         9.8        5  \n",
              "2         9.8        5  \n",
              "3         9.8        6  \n",
              "4         9.4        5  \n",
              "5         9.4        5  \n",
              "6         9.4        5  \n",
              "7        10.0        7  \n",
              "8         9.5        7  \n",
              "9        10.5        5  \n",
              "10        9.2        5  \n",
              "11       10.5        5  \n",
              "12        9.9        5  \n",
              "13        9.1        5  \n",
              "14        9.2        5  \n",
              "15        9.2        5  \n",
              "16       10.5        7  \n",
              "17        9.3        5  \n",
              "18        9.0        4  \n",
              "19        9.2        6  \n",
              "20        9.4        6  \n",
              "21        9.7        5  \n",
              "22        9.5        5  \n",
              "23        9.4        5  \n",
              "24        9.7        6  \n",
              "25        9.3        5  \n",
              "26        9.5        5  \n",
              "27        9.5        5  \n",
              "28        9.4        5  \n",
              "29        9.8        6  \n",
              "...       ...      ...  \n",
              "1569     11.5        6  \n",
              "1570     12.4        6  \n",
              "1571     11.1        6  \n",
              "1572      9.5        5  \n",
              "1573     12.5        6  \n",
              "1574     10.5        6  \n",
              "1575     11.8        6  \n",
              "1576     10.8        6  \n",
              "1577     11.9        6  \n",
              "1578     11.3        6  \n",
              "1579     11.3        5  \n",
              "1580     11.9        6  \n",
              "1581     11.3        5  \n",
              "1582     11.9        5  \n",
              "1583      9.8        5  \n",
              "1584     11.6        7  \n",
              "1585     11.5        6  \n",
              "1586     11.4        6  \n",
              "1587     10.9        6  \n",
              "1588     12.8        6  \n",
              "1589      9.2        5  \n",
              "1590     11.6        6  \n",
              "1591     11.6        6  \n",
              "1592     11.0        6  \n",
              "1593      9.5        6  \n",
              "1594     10.5        5  \n",
              "1595     11.2        6  \n",
              "1596     11.0        6  \n",
              "1597     10.2        5  \n",
              "1598     11.0        6  \n",
              "\n",
              "[1599 rows x 12 columns]"
            ]
          },
          "metadata": {
            "tags": []
          },
          "execution_count": 76
        }
      ]
    },
    {
      "metadata": {
        "id": "JlxczyrNZ6Gu",
        "colab_type": "code",
        "outputId": "16f3b947-0b9e-48ef-b6f9-d574cee37371",
        "colab": {
          "base_uri": "https://localhost:8080/",
          "height": 416
        }
      },
      "cell_type": "code",
      "source": [
        "import seaborn as sns\n",
        "ax = sns.countplot(x='quality', data=df)"
      ],
      "execution_count": 77,
      "outputs": [
        {
          "output_type": "stream",
          "text": [
            "/usr/local/lib/python3.6/dist-packages/seaborn/categorical.py:1428: FutureWarning: remove_na is deprecated and is a private function. Do not use.\n",
            "  stat_data = remove_na(group_data)\n"
          ],
          "name": "stderr"
        },
        {
          "output_type": "display_data",
          "data": {
            "image/png": "[encoded data removed]",
            "text/plain": [
              "<matplotlib.figure.Figure at 0x7f1ced3640f0>"
            ]
          },
          "metadata": {
            "tags": []
          }
        }
      ]
    },
    {
      "metadata": {
        "id": "H-KodclErzwG",
        "colab_type": "text"
      },
      "cell_type": "markdown",
      "source": [
        "Я думаю,что количество представителей разных классов очень неравномерно,из за чего обучающая модель может ошибаться\n"
      ]
    },
    {
      "metadata": {
        "id": "X8Wbzs7ZZ6Ho",
        "colab_type": "code",
        "colab": {}
      },
      "cell_type": "code",
      "source": [
        "y=df['quality']\n",
        "x=df.drop(['quality'],axis=1)"
      ],
      "execution_count": 0,
      "outputs": []
    },
    {
      "metadata": {
        "id": "yC4ZJNmDZ6IB",
        "colab_type": "code",
        "outputId": "c902986d-4d4b-411e-c40a-7086b4139e27",
        "colab": {
          "base_uri": "https://localhost:8080/",
          "height": 1094
        }
      },
      "cell_type": "code",
      "source": [
        "y"
      ],
      "execution_count": 79,
      "outputs": [
        {
          "output_type": "execute_result",
          "data": {
            "text/plain": [
              "0       5\n",
              "1       5\n",
              "2       5\n",
              "3       6\n",
              "4       5\n",
              "5       5\n",
              "6       5\n",
              "7       7\n",
              "8       7\n",
              "9       5\n",
              "10      5\n",
              "11      5\n",
              "12      5\n",
              "13      5\n",
              "14      5\n",
              "15      5\n",
              "16      7\n",
              "17      5\n",
              "18      4\n",
              "19      6\n",
              "20      6\n",
              "21      5\n",
              "22      5\n",
              "23      5\n",
              "24      6\n",
              "25      5\n",
              "26      5\n",
              "27      5\n",
              "28      5\n",
              "29      6\n",
              "       ..\n",
              "1569    6\n",
              "1570    6\n",
              "1571    6\n",
              "1572    5\n",
              "1573    6\n",
              "1574    6\n",
              "1575    6\n",
              "1576    6\n",
              "1577    6\n",
              "1578    6\n",
              "1579    5\n",
              "1580    6\n",
              "1581    5\n",
              "1582    5\n",
              "1583    5\n",
              "1584    7\n",
              "1585    6\n",
              "1586    6\n",
              "1587    6\n",
              "1588    6\n",
              "1589    5\n",
              "1590    6\n",
              "1591    6\n",
              "1592    6\n",
              "1593    6\n",
              "1594    5\n",
              "1595    6\n",
              "1596    6\n",
              "1597    5\n",
              "1598    6\n",
              "Name: quality, Length: 1599, dtype: int64"
            ]
          },
          "metadata": {
            "tags": []
          },
          "execution_count": 79
        }
      ]
    },
    {
      "metadata": {
        "id": "rs3EmPO2Z6Ie",
        "colab_type": "text"
      },
      "cell_type": "markdown",
      "source": [
        "### 1.2 Сравнение моделей (4 балла)\n",
        "\n",
        "Задача классификации. Все признаки уже числовые. Значит можно пробовать просто все модели и выбрать лучшую. Так и поступим, сделайте кросс валидацию на 5 фолдах, используя `sklearn.model_selection.KFold` как аргумент у `cross_val_score`. Метрика качества будет `accuracy`.\n",
        "\n",
        "Алгоритмы для тестирования:\n",
        "- KNeighborsClassifier с 10 соседями\n",
        "- KNeighborsClassifier с 10 соседями и масштабированием StandartScaler\n",
        "- RidgeClassifier\n",
        "- DecisionTreeClassifier \n",
        "- BaggingClassifier c 100 деревьев\n",
        "- BaggingClassifier с 100 деревьев и каждое дерево обучается только по половине случайно выбранных признаков (см аргументы)\n",
        "- RandomForestClassifier c 100 деревьев\n",
        "\n",
        "Выведите среднее значение метрики качества для каждого из классификаторов. \n",
        "\n",
        "**hint**: каждый следующий алгоритм, будет показывать качество лучше, чем предыдущий. Если у вас не так - то что-то вы делаете неправильно. Везде зафиксируйте random_state=42."
      ]
    },
    {
      "metadata": {
        "id": "ll3UwAmhZ6Iu",
        "colab_type": "code",
        "colab": {}
      },
      "cell_type": "code",
      "source": [
        "from sklearn.model_selection import cross_val_score\n",
        "from sklearn.model_selection import KFold\n",
        "from sklearn.ensemble import BaggingClassifier\n",
        "from sklearn.neighbors import KNeighborsClassifier\n",
        "from  sklearn.linear_model import RidgeClassifier\n",
        "from sklearn.tree import DecisionTreeClassifier\n",
        "from sklearn.ensemble import RandomForestClassifier\n",
        "supercv = KFold(n_splits=5, random_state=42, shuffle=True)\n"
      ],
      "execution_count": 0,
      "outputs": []
    },
    {
      "metadata": {
        "id": "qwosx4xuiDya",
        "colab_type": "code",
        "outputId": "7241d609-7727-41b4-e5e8-7c46bb6e87fd",
        "colab": {
          "base_uri": "https://localhost:8080/",
          "height": 34
        }
      },
      "cell_type": "code",
      "source": [
        "model = KNeighborsClassifier()\n",
        "cross_val_score(model,X=x,y=y,cv =supercv )\n"
      ],
      "execution_count": 81,
      "outputs": [
        {
          "output_type": "execute_result",
          "data": {
            "text/plain": [
              "array([0.45625   , 0.53125   , 0.50625   , 0.509375  , 0.50470219])"
            ]
          },
          "metadata": {
            "tags": []
          },
          "execution_count": 81
        }
      ]
    },
    {
      "metadata": {
        "id": "hPTx0B2KmmHU",
        "colab_type": "code",
        "outputId": "f8001a7e-4070-4640-865e-0f227b456b71",
        "colab": {
          "base_uri": "https://localhost:8080/",
          "height": 34
        }
      },
      "cell_type": "code",
      "source": [
        "from sklearn.preprocessing import StandardScaler\n",
        "x_s= StandardScaler()\n",
        "x_s.fit(x)"
      ],
      "execution_count": 82,
      "outputs": [
        {
          "output_type": "execute_result",
          "data": {
            "text/plain": [
              "StandardScaler(copy=True, with_mean=True, with_std=True)"
            ]
          },
          "metadata": {
            "tags": []
          },
          "execution_count": 82
        }
      ]
    },
    {
      "metadata": {
        "id": "YcunKoE1Z6JO",
        "colab_type": "code",
        "outputId": "ed0c9835-ce77-4da3-f126-2ea524666b4a",
        "colab": {
          "base_uri": "https://localhost:8080/",
          "height": 990
        }
      },
      "cell_type": "code",
      "source": [
        "\n",
        "clfs=[ KNeighborsClassifier(n_neighbors=10),\n",
        "      KNeighborsClassifier(n_neighbors=10),\n",
        "      RidgeClassifier(random_state=42),\n",
        "      DecisionTreeClassifier(random_state=42),\n",
        "      BaggingClassifier(\tn_estimators=100,random_state = 42),\n",
        "       BaggingClassifier(\tn_estimators=100,max_features=0.5,random_state=42),\n",
        "      RandomForestClassifier(n_estimators =100,random_state=42)]\n",
        "cross = []\n",
        "k=0\n",
        "\n",
        "for clf in clfs:\n",
        "  if (k == 1):\n",
        "    a = cross_val_score(clf,X=x_s.transform(x),y=y,cv=supercv)\n",
        "  else:\n",
        "    a = cross_val_score(clf,X=x,y=y,cv =supercv)\n",
        "  cross.append(a)\n",
        "  print('Имя модели обучения',clf.__class__.__name__)\n",
        "  print('результаты кросвалидации:',a)\n",
        "  print('среднее:',a.mean())\n",
        "  print('отклонение:',(a.std()))\n",
        "  print('\\n\\n\\n')\n",
        "  k+=1\n"
      ],
      "execution_count": 83,
      "outputs": [
        {
          "output_type": "stream",
          "text": [
            "Имя модели обучения KNeighborsClassifier\n",
            "результаты кросвалидации: [0.48125    0.534375   0.5        0.49375    0.55172414]\n",
            "среднее: 0.5122198275862069\n",
            "отклонение: 0.02646141016093271\n",
            "\n",
            "\n",
            "\n",
            "\n",
            "Имя модели обучения KNeighborsClassifier\n",
            "результаты кросвалидации: [0.578125   0.58125    0.559375   0.575      0.60501567]\n",
            "среднее: 0.5797531347962382\n",
            "отклонение: 0.014703387246407617\n",
            "\n",
            "\n",
            "\n",
            "\n",
            "Имя модели обучения RidgeClassifier\n",
            "результаты кросвалидации: [0.56875    0.571875   0.546875   0.56875    0.66144201]\n",
            "среднее: 0.5835384012539185\n",
            "отклонение: 0.03996649901617024\n",
            "\n",
            "\n",
            "\n",
            "\n",
            "Имя модели обучения DecisionTreeClassifier\n",
            "результаты кросвалидации: [0.559375   0.615625   0.61875    0.6625     0.63322884]\n",
            "среднее: 0.6178957680250783\n",
            "отклонение: 0.03363095895166169\n",
            "\n",
            "\n",
            "\n",
            "\n",
            "Имя модели обучения BaggingClassifier\n",
            "результаты кросвалидации: [0.640625   0.7        0.684375   0.715625   0.73667712]\n",
            "среднее: 0.6954604231974921\n",
            "отклонение: 0.032421733218408647\n",
            "\n",
            "\n",
            "\n",
            "\n",
            "Имя модели обучения BaggingClassifier\n",
            "результаты кросвалидации: [0.671875   0.7        0.6875     0.696875   0.73981191]\n",
            "среднее: 0.6992123824451411\n",
            "отклонение: 0.022534053776467534\n",
            "\n",
            "\n",
            "\n",
            "\n",
            "Имя модели обучения RandomForestClassifier\n",
            "результаты кросвалидации: [0.653125   0.7        0.703125   0.709375   0.74294671]\n",
            "среднее: 0.7017143416927899\n",
            "отклонение: 0.02872158354161314\n",
            "\n",
            "\n",
            "\n",
            "\n"
          ],
          "name": "stdout"
        }
      ]
    },
    {
      "metadata": {
        "id": "5TaWNnurZ6Md",
        "colab_type": "text"
      },
      "cell_type": "markdown",
      "source": [
        "### 1.3 Расуждения (8 баллов)\n",
        "\n",
        "Ответьте на вопросы развернуто, можете полистать литературу:\n",
        "\n",
        "- почему наблюдается значимая разница в качестве у KNeighborsClassifier с масштабированием и без\n",
        "- почему масштабирование не важно для деревьев решений\n",
        "- почему бэггинг на половине признаков для каждого дерева дал качество предсказания больше, чем на всех? (а он дал!)\n",
        "- у какой модели наибольшей отклонение от среднего качества предсказаний? А почему??"
      ]
    },
    {
      "metadata": {
        "id": "j2D71ISWt-FH",
        "colab_type": "text"
      },
      "cell_type": "markdown",
      "source": [
        "1) KNeighborsClassifier использует идею того,что объекты с похожимы свойтсвами находятся ближе,standartscale приводит все отклонения в очень малый диапозон величин,тем самым мы избегаем ситуации когда у признака есть отклонение,которое на несколько порядков больше,чем у других ,что может вызвать доминацию этого признака в нашей модели обучения и привести к ошибочным выводам.\n",
        "\n",
        "\n",
        "2) При обработки количественного признака деревья решений разбивают этот признак по возрастанию и в дереве проверяются лишь те пороги,при которых целевой признак меняет свое значения,эти пороги не будут зависить от отклонения,а следовательно оно не имеет значения в данной моделе обучения,а следовательно масштабирование не нужно\n",
        "\n",
        "\n",
        "3)Из за того,что ,вероятно,алгоритм поиска оптимальных признаков исключил те признаки,по которым разбиения на узлы было бы неэффективным,тем самым улучшил критерии для разбиения деревьев,тем самым улучшил качество предсказания\n",
        "\n",
        "4) больше  всего отклонение  у KNeighborsClassifier без масштабирование,т.к. KNeighborsClassifier использует идею того,что объекты с похожимы свойтсвами находятся ближе, и так получается что признаки имеют разные масштабы,и поэтому разные диапозоны отклонения,в связи с чем некоторые признаки становятся доминантными в предсказаниях,что приводит к ошибки\n"
      ]
    },
    {
      "metadata": {
        "id": "kvFxsCUqZ6M9",
        "colab_type": "text"
      },
      "cell_type": "markdown",
      "source": [
        "## 2 Переобучение и Ко\n",
        "\n",
        "В последнем задании вы уже заметили, что случайный лес может вести себя немного нестабильно. В этом задании мы возьмем опять датасет MNIST(простите) и будем его решать деревьями. Почему мы взяли его? Потому что в нем фактически много разных признаков (значения пикселей в пространстве), а деревья строятся делая разбиения по признакам. Обычно на эти разбиения не обращают внимание, так как главное что тюнят - это глубина дереьвев, количество деревьев, а кучу других параметров обходят стороной, так как они \"неясные\". Попробуем прояснить их."
      ]
    },
    {
      "metadata": {
        "id": "f2dBHyodZ6NE",
        "colab_type": "text"
      },
      "cell_type": "markdown",
      "source": [
        "### 2.1 Загрузка датасета (1 балл)\n",
        "\n",
        "Загрузите датасет с помощью функции `sklearn.datasets.load_digits`. В нем будут 64px картинки в векторной форме.\n",
        "\n",
        "Нарисуйте первые 10 цифр в одной ячейке, чтобы было красиво."
      ]
    },
    {
      "metadata": {
        "id": "eDoWwo17Z6NV",
        "colab_type": "code",
        "colab": {}
      },
      "cell_type": "code",
      "source": [
        "from sklearn.datasets import load_digits\n",
        "digits = load_digits()"
      ],
      "execution_count": 0,
      "outputs": []
    },
    {
      "metadata": {
        "id": "1V221TUdZ6Nw",
        "colab_type": "code",
        "outputId": "73e77709-6e3b-4e51-e82b-92d24c42c866",
        "colab": {
          "base_uri": "https://localhost:8080/",
          "height": 3397
        }
      },
      "cell_type": "code",
      "source": [
        "digits.data\n",
        "import matplotlib.pyplot as plt\n",
        "for i in range(10):\n",
        "  plt.matshow(digits.images[i]) \n",
        "  plt.show()"
      ],
      "execution_count": 0,
      "outputs": [
        {
          "output_type": "display_data",
          "data": {
            "image/png": "[encoded data removed]",
            "text/plain": [
              "<matplotlib.figure.Figure at 0x7f1cedb84748>"
            ]
          },
          "metadata": {
            "tags": []
          }
        },
        {
          "output_type": "display_data",
          "data": {
            "image/png": "[encoded data removed]",
            "text/plain": [
              "<matplotlib.figure.Figure at 0x7f1cf4e32cf8>"
            ]
          },
          "metadata": {
            "tags": []
          }
        },
        {
          "output_type": "display_data",
          "data": {
            "image/png": "[encoded data removed]",
            "text/plain": [
              "<matplotlib.figure.Figure at 0x7f1ced6ca860>"
            ]
          },
          "metadata": {
            "tags": []
          }
        },
        {
          "output_type": "display_data",
          "data": {
            "image/png": "[encoded data removed]",
            "text/plain": [
              "<matplotlib.figure.Figure at 0x7f1ced960ac8>"
            ]
          },
          "metadata": {
            "tags": []
          }
        },
        {
          "output_type": "display_data",
          "data": {
            "image/png": "[encoded data removed]",
            "text/plain": [
              "<matplotlib.figure.Figure at 0x7f1ced723cc0>"
            ]
          },
          "metadata": {
            "tags": []
          }
        },
        {
          "output_type": "display_data",
          "data": {
            "image/png": "[encoded data removed]",
            "text/plain": [
              "<matplotlib.figure.Figure at 0x7f1ced893668>"
            ]
          },
          "metadata": {
            "tags": []
          }
        },
        {
          "output_type": "display_data",
          "data": {
            "image/png": "[encoded data removed]",
            "text/plain": [
              "<matplotlib.figure.Figure at 0x7f1ced86b198>"
            ]
          },
          "metadata": {
            "tags": []
          }
        },
        {
          "output_type": "display_data",
          "data": {
            "image/png": "[encoded data removed]",
            "text/plain": [
              "<matplotlib.figure.Figure at 0x7f1ced7e5320>"
            ]
          },
          "metadata": {
            "tags": []
          }
        },
        {
          "output_type": "display_data",
          "data": {
            "image/png": "[encoded data removed]",
            "text/plain": [
              "<matplotlib.figure.Figure at 0x7f1ced692630>"
            ]
          },
          "metadata": {
            "tags": []
          }
        },
        {
          "output_type": "display_data",
          "data": {
            "image/png": "[encoded data removed]",
            "text/plain": [
              "<matplotlib.figure.Figure at 0x7f1ced6016a0>"
            ]
          },
          "metadata": {
            "tags": []
          }
        }
      ]
    },
    {
      "metadata": {
        "id": "whdu7EWIZ6OH",
        "colab_type": "code",
        "colab": {}
      },
      "cell_type": "code",
      "source": [
        "X = digits.data\n",
        "Y = digits.target"
      ],
      "execution_count": 0,
      "outputs": []
    },
    {
      "metadata": {
        "id": "umI--uw8Z6Oi",
        "colab_type": "text"
      },
      "cell_type": "markdown",
      "source": [
        "### 2.2 Перебор классификаторов (3 балла)\n",
        "\n",
        "В этом задании вам снова придется перебрать несколько классификаторов, но теперь мы обратим внимание на другие гиперпараметры и их влияние на качество классификации, кстати опять `accuracy`.\n",
        "\n",
        "Сделайте кроссвалидацию на 10 фолдах, указав `cv=10` для следующих классификаторов:\n",
        "\n",
        "- DecisionTreeClassifier с параметрами по-умолчанию\n",
        "- BaggingClassifier с 100 деревьвев\n",
        "- BaggingClassifier с 100 деревьев, НО с ограничением на максимальное количество признаков, участвующих при обучении каждого из деревьев в $\\sqrt{N}$, где $N$ - это число признаков.\n",
        "- BaggingClassifier с 100 деревьев, НО с ограничением на количество признаков участвующих в разбиении для каждого из деревьев в $\\sqrt{N}$, где $N$ - это число признаков. Это отличается от предыдущей модели тем, где ограничивается `max_features`. Читайте документацию :trollface:\n",
        "- обычный случайный лес со 100 деревьями"
      ]
    },
    {
      "metadata": {
        "id": "L3xTq-OUlDi9",
        "colab_type": "text"
      },
      "cell_type": "markdown",
      "source": [
        ""
      ]
    },
    {
      "metadata": {
        "id": "Hew_FON3Z6Ox",
        "colab_type": "code",
        "colab": {}
      },
      "cell_type": "code",
      "source": [
        "supercv = KFold(n_splits=10, random_state=42, shuffle=True)\n"
      ],
      "execution_count": 0,
      "outputs": []
    },
    {
      "metadata": {
        "id": "PbksFhmbZ6PI",
        "colab_type": "code",
        "colab": {}
      },
      "cell_type": "code",
      "source": [
        "clfs = [DecisionTreeClassifier(random_state=42),\n",
        "             BaggingClassifier(DecisionTreeClassifier(random_state=42), n_estimators=100), \n",
        "             BaggingClassifier(DecisionTreeClassifier(random_state=42, max_features=int(np.sqrt(X.shape[1]))), n_estimators=100), \n",
        "             BaggingClassifier(DecisionTreeClassifier(random_state=42), n_estimators=100, max_features=int(np.sqrt(X.shape[1]))), \n",
        "             RandomForestClassifier(n_estimators=100)]"
      ],
      "execution_count": 0,
      "outputs": []
    },
    {
      "metadata": {
        "id": "gKWLJ6nlZ6Pp",
        "colab_type": "code",
        "outputId": "95d037d9-f0ef-4b37-bc0e-2dfc06947b14",
        "colab": {
          "base_uri": "https://localhost:8080/",
          "height": 935
        }
      },
      "cell_type": "code",
      "source": [
        "for clf in clfs:\n",
        "  a = cross_val_score(clf,X=X,y=Y,cv =supercv)\n",
        "  cross.append(a)\n",
        "  print('Имя модели обучения',clf.__class__.__name__)\n",
        "  print('результаты кросвалидации: \\n',a)\n",
        "  print('среднее:',a.mean())\n",
        "  print('отклонение:',(a.std()))\n",
        "  print('\\n\\n\\n')\n",
        "  k+=1"
      ],
      "execution_count": 0,
      "outputs": [
        {
          "output_type": "stream",
          "text": [
            "Имя модели обучения DecisionTreeClassifier\n",
            "результаты кросвалидации: \n",
            " [0.86111111 0.85555556 0.86111111 0.83333333 0.87222222 0.82222222\n",
            " 0.86666667 0.8603352  0.83240223 0.8603352 ]\n",
            "среднее: 0.8525294847920547\n",
            "отклонение: 0.01599405007513365\n",
            "\n",
            "\n",
            "\n",
            "\n",
            "Имя модели обучения BaggingClassifier\n",
            "результаты кросвалидации: \n",
            " [0.94444444 0.97222222 0.96111111 0.94444444 0.93888889 0.90555556\n",
            " 0.97222222 0.9273743  0.94972067 0.96089385]\n",
            "среднее: 0.947687771570453\n",
            "отклонение: 0.019618402728385716\n",
            "\n",
            "\n",
            "\n",
            "\n",
            "Имя модели обучения BaggingClassifier\n",
            "результаты кросвалидации: \n",
            " [0.97777778 0.97222222 0.98333333 0.97777778 0.96111111 0.96111111\n",
            " 0.98888889 0.97765363 0.97206704 0.98324022]\n",
            "среднее: 0.9755183116076971\n",
            "отклонение: 0.008672687751800053\n",
            "\n",
            "\n",
            "\n",
            "\n",
            "Имя модели обучения BaggingClassifier\n",
            "результаты кросвалидации: \n",
            " [0.95555556 0.95555556 0.95555556 0.92777778 0.93333333 0.96111111\n",
            " 0.95       0.96089385 0.96648045 0.94972067]\n",
            "среднее: 0.9515983860955928\n",
            "отклонение: 0.011629553590408832\n",
            "\n",
            "\n",
            "\n",
            "\n",
            "Имя модели обучения RandomForestClassifier\n",
            "результаты кросвалидации: \n",
            " [0.97777778 0.97222222 0.98333333 0.98333333 0.97222222 0.94444444\n",
            " 0.98333333 0.98324022 0.98324022 0.98324022]\n",
            "среднее: 0.9766387337057727\n",
            "отклонение: 0.011584355067936512\n",
            "\n",
            "\n",
            "\n",
            "\n"
          ],
          "name": "stdout"
        }
      ]
    },
    {
      "metadata": {
        "id": "Jpgt8hNyZ6QD",
        "colab_type": "code",
        "colab": {}
      },
      "cell_type": "code",
      "source": [
        ""
      ],
      "execution_count": 0,
      "outputs": []
    },
    {
      "metadata": {
        "id": "vKbD_0cyZ6QY",
        "colab_type": "code",
        "colab": {}
      },
      "cell_type": "code",
      "source": [
        ""
      ],
      "execution_count": 0,
      "outputs": []
    },
    {
      "metadata": {
        "id": "7UZYCaZ3Z6Qk",
        "colab_type": "text"
      },
      "cell_type": "markdown",
      "source": [
        "### 2.3 В чём разница? (3 балла)\n",
        "\n",
        "Ответье на вопрос: \n",
        "\n",
        "Странно то как? Почему ограничение на количество признаков в разбиении дерева и ограничение в количестве признаков для построения каждого дерева в BaggingClasifier дало СОВСЕМ разный результат в качестве предсказания? В чем магия?\n",
        "\n",
        "![](https://i.ytimg.com/vi/_5GWMIAHc08/hqdefault.jpg)"
      ]
    },
    {
      "metadata": {
        "id": "43SUykWkGy5G",
        "colab_type": "text"
      },
      "cell_type": "markdown",
      "source": [
        "Ну я бы не сказал что результат прям КООРДИНАЛЬНО СОВСЕМ разный,но да,действительно имеется улучшение в качестве предсказания.Вероятно,это связанно с тем,что .BaggingClassifier  использует совокупности деревьев,где у каждой свои алгоритмы для поиска оптимального значения для разбиения узла дерева,если мы ограничеваем количество признаков,которые следует учитывать для всех деревьев,то\n",
        "BaggingClassifier,по всей видимости будет сам решать какие признаки оптимальны для разбиения,тогда как ,если указать для каждой модели дерева ограниченность,то она будет выбирать из всех,что лучше подойдет конкретно под нее.Иного объяснения трудно найти,ведь если бы это не влияло на то,какие именно признаки выбирать для разбиения для всех деревьев,а  не для каждого отдельно и дело было бы только в количестве,то указывать количество можно было бы где угодно и никакой магии бы не было,и результат был одинаковый,значит дело должно быть в этом,правда я из документации не смог понять как именно происходит в BaggingClassifier выбор нужных признаков,при указании количества...\n"
      ]
    },
    {
      "metadata": {
        "id": "s_sspUj4Z6RJ",
        "colab_type": "text"
      },
      "cell_type": "markdown",
      "source": [
        "### 2.4 Количество деревьев (2 балла)\n",
        "\n",
        "Сделайте перебор количества деревьев для `RandomForestClassifier`. Сохраните качества кросс валидации на 10 фолдах для `[1,5,10,15,50,100,150,200,300]` количества деревьев. Нарисуйте график, где по оси x - количество деревьев, а по оси y - качество. При каком количестве деревьев получается самое хорошее качество?"
      ]
    },
    {
      "metadata": {
        "id": "UBAxZeDlZ6RU",
        "colab_type": "code",
        "colab": {}
      },
      "cell_type": "code",
      "source": [
        "p= []\n",
        "tree = [1,5,10,15,50,100,150,200,300,400,500,600,700,800]\n",
        "for i in tree:\n",
        "  model = RandomForestClassifier(n_estimators=i,random_state=42)\n",
        "  a = cross_val_score(model,X=X,y=Y,cv =supercv)\n",
        "  p.append(a.mean())\n",
        "  "
      ],
      "execution_count": 0,
      "outputs": []
    },
    {
      "metadata": {
        "id": "1yRgJIzuZ6Rp",
        "colab_type": "code",
        "outputId": "2d7d5914-064e-4d25-8ad5-d1bdc72949fc",
        "colab": {
          "base_uri": "https://localhost:8080/",
          "height": 182
        }
      },
      "cell_type": "code",
      "source": [
        "p"
      ],
      "execution_count": 0,
      "outputs": [
        {
          "output_type": "execute_result",
          "data": {
            "text/plain": [
              "[0.790707635009311,\n",
              " 0.9153941651148354,\n",
              " 0.9488019863438858,\n",
              " 0.9577001862197392,\n",
              " 0.9760800744878957,\n",
              " 0.9794196151458723,\n",
              " 0.9805307262569833,\n",
              " 0.9783054003724395,\n",
              " 0.9771880819366853]"
            ]
          },
          "metadata": {
            "tags": []
          },
          "execution_count": 58
        }
      ]
    },
    {
      "metadata": {
        "id": "1n3w2r_jU8Nb",
        "colab_type": "code",
        "outputId": "2dc96d20-53d6-4c99-e7bf-44270aad6795",
        "colab": {
          "base_uri": "https://localhost:8080/",
          "height": 365
        }
      },
      "cell_type": "code",
      "source": [
        "fig = plt.figure()\n",
        "plt.plot(tree,p)\n",
        "plt.show"
      ],
      "execution_count": 0,
      "outputs": [
        {
          "output_type": "execute_result",
          "data": {
            "text/plain": [
              "<function matplotlib.pyplot.show>"
            ]
          },
          "metadata": {
            "tags": []
          },
          "execution_count": 59
        },
        {
          "output_type": "display_data",
          "data": {
            "image/png": "[encoded data removed]",
            "text/plain": [
              "<matplotlib.figure.Figure at 0x7f1cedb84e80>"
            ]
          },
          "metadata": {
            "tags": []
          }
        }
      ]
    },
    {
      "metadata": {
        "id": "5G6JYFeuWgka",
        "colab_type": "code",
        "colab": {}
      },
      "cell_type": "code",
      "source": [
        ""
      ],
      "execution_count": 0,
      "outputs": []
    },
    {
      "metadata": {
        "id": "oLAISMl7Z6R5",
        "colab_type": "text"
      },
      "cell_type": "markdown",
      "source": [
        "### 2.5 Количество признаков  (2 балла)\n",
        "\n",
        "Переберите теперь максимальное количество признаков для `RandomForestClassifier` на 100 деревьях, от 1 до 64 с шагом 5. Постройте график качества по кроссвалидации на 10 фолдах."
      ]
    },
    {
      "metadata": {
        "id": "VQu7o7dEZ6SA",
        "colab_type": "code",
        "colab": {}
      },
      "cell_type": "code",
      "source": [
        "p= []\n",
        "tree = np.arange(4,65,5)\n",
        "#tree = range(1,64,5)\n",
        "for i in tree:\n",
        "  model = RandomForestClassifier(n_estimators=100, max_features=i)\n",
        "  a = cross_val_score(model,X=X,y=Y,cv =supercv)\n",
        "  p.append(a.mean())\n",
        "  \n"
      ],
      "execution_count": 0,
      "outputs": []
    },
    {
      "metadata": {
        "id": "Eei6AXgvO7N5",
        "colab_type": "code",
        "outputId": "01219950-65ad-4cf9-bee0-3bed0d3f33c5",
        "colab": {
          "base_uri": "https://localhost:8080/",
          "height": 55
        }
      },
      "cell_type": "code",
      "source": [
        "print(tree,p)"
      ],
      "execution_count": 0,
      "outputs": [
        {
          "output_type": "stream",
          "text": [
            "[ 4  9 14 19 24 29 34 39 44 49 54 59 64] [0.9738516449410304, 0.9744040968342643, 0.9755183116076971, 0.9710614525139665, 0.9682774674115455, 0.9716170080695219, 0.9693947858472998, 0.967163252638113, 0.9654965859714462, 0.9604872749844816, 0.9515735567970204, 0.9521477343265052, 0.949366852886406]\n"
          ],
          "name": "stdout"
        }
      ]
    },
    {
      "metadata": {
        "id": "qlY4fqgQC5OK",
        "colab_type": "code",
        "outputId": "95352ccf-159b-4db8-baaa-b413f6bcdf6b",
        "colab": {
          "base_uri": "https://localhost:8080/",
          "height": 365
        }
      },
      "cell_type": "code",
      "source": [
        "fig = plt.figure()\n",
        "plt.plot(tree,p)\n",
        "plt.show"
      ],
      "execution_count": 0,
      "outputs": [
        {
          "output_type": "execute_result",
          "data": {
            "text/plain": [
              "<function matplotlib.pyplot.show>"
            ]
          },
          "metadata": {
            "tags": []
          },
          "execution_count": 62
        },
        {
          "output_type": "display_data",
          "data": {
            "image/png": "[encoded data removed]",
            "text/plain": [
              "<matplotlib.figure.Figure at 0x7f1ced32ad30>"
            ]
          },
          "metadata": {
            "tags": []
          }
        }
      ]
    },
    {
      "metadata": {
        "id": "dgIITAk0NUvT",
        "colab_type": "code",
        "colab": {}
      },
      "cell_type": "code",
      "source": [
        ""
      ],
      "execution_count": 0,
      "outputs": []
    },
    {
      "metadata": {
        "id": "tEepyF-gDGZ5",
        "colab_type": "code",
        "colab": {}
      },
      "cell_type": "code",
      "source": [
        ""
      ],
      "execution_count": 0,
      "outputs": []
    },
    {
      "metadata": {
        "id": "f-uWE92YZ6SS",
        "colab_type": "text"
      },
      "cell_type": "markdown",
      "source": [
        "### 2.5 Вопросы по RandomForest (8 баллов)\n",
        "\n",
        "Ответьте на вопросы:\n",
        "\n",
        "- Что происходит с ростом числа деревьев у случайного леса. Можно ли просто всегда брать 5000 деревьев и быть счастливым?\n",
        "- Как зависит качество предсказания в дереве в зависимости от max_features?\n",
        "- Почему качество зависит от max_features?\n",
        "- Как глубина деревьев влияет на качество случайного леса?"
      ]
    },
    {
      "metadata": {
        "id": "z0Lhm5WgZ6SW",
        "colab_type": "text"
      },
      "cell_type": "markdown",
      "source": [
        "1) Естественно можно,но маловероятно,что это будет рационально,особого улучшения на практике не наблюдается,по графику ниже,это прям очень четко можно увидеть.Почему не наблюдается улучшения при большом количестве деревьев ? Т.к. случайный лес выбирает среднее,строя деревья по разным алгоритмам,то вероятно,с какого то определенного количества деревьев абсолютное большинство будет давать верный вывод.Так же это может быть из за того,что ограниченно количетсво признаков,и в целом разбиения у деревьев будут повторятся,из за чего они будут давать одинаковый результат,но на счет этого я не уверен.\n",
        "\n",
        "2) Зависимость хоршая,явно прослеживается,что график сначало растет положительно,с просадками,а потом убывает,по всей видимости,деревьям,гораздо проще строить внутренние разделы узлов,по цветам некоторых пикселей,чем по большему количеству,судя по графику,оптимальное количество пикселей,по которым удобно разбивать узлы,для  классификации  картинок - 14.\n",
        "\n",
        "3)max_features - параметр,отвечающий за максимальное количество параметров,которые следует учитывать,при разбиении внутрених узлов,по которым делается выбор в дереве.То есть этот параметр прямо влияет на качество,ведь он влияет на то,какие именно будут узлы в деревьях,а узлы в деревьях и есть то,что будет анализировать данные и классифицировать их.\n",
        "\n",
        "4)Глубина деревьев очень сильно влияет на качество обучения случайного леса,ведь если у нас будет маленькая глубина,то мы можем не охватить ту или иную информацию о выборочном пространстве и  делать предсказания неверно,а если глубина будет огромная,то появятся кучу участков дерева,которые имеют маленький вес для предсказания,что недобавляет полезности в предсказании,но крайне усложняет алгоритм,что очень и очень плохо\n"
      ]
    },
    {
      "metadata": {
        "id": "YXBYYPhrWajM",
        "colab_type": "code",
        "outputId": "4726d9db-233b-4ea3-cf12-83738f22d523",
        "colab": {
          "base_uri": "https://localhost:8080/",
          "height": 365
        }
      },
      "cell_type": "code",
      "source": [
        "p= []\n",
        "tree = [1,5,10,15,50,100,150,200,300,400,500,600,700,800,1000,2000,3000,4000,5000]\n",
        "for i in tree:\n",
        "  model = RandomForestClassifier(n_estimators=i,random_state=42)\n",
        "  a = cross_val_score(model,X=X,y=Y,cv =supercv)\n",
        "  p.append(a.mean())\n",
        "fig = plt.figure()\n",
        "plt.plot(tree,p)\n",
        "plt.show"
      ],
      "execution_count": 0,
      "outputs": [
        {
          "output_type": "execute_result",
          "data": {
            "text/plain": [
              "<function matplotlib.pyplot.show>"
            ]
          },
          "metadata": {
            "tags": []
          },
          "execution_count": 67
        },
        {
          "output_type": "display_data",
          "data": {
            "image/png": "[encoded data removed]",
            "text/plain": [
              "<matplotlib.figure.Figure at 0x7f1cf4db1748>"
            ]
          },
          "metadata": {
            "tags": []
          }
        }
      ]
    },
    {
      "metadata": {
        "id": "bUGZOafqZ6SZ",
        "colab_type": "text"
      },
      "cell_type": "markdown",
      "source": [
        "![](https://habrastorage.org/web/ad8/366/a44/ad8366a4469346c6b2e1306495b05d1a.jpg)"
      ]
    }
  ]
}