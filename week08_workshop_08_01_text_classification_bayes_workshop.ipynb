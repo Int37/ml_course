{
  "nbformat": 4,
  "nbformat_minor": 0,
  "metadata": {
    "colab": {
      "name": "week08_workshop_08-01-text-classification-bayes_workshop.ipynb",
      "version": "0.3.2",
      "provenance": [],
      "collapsed_sections": []
    },
    "kernelspec": {
      "display_name": "Python 3",
      "language": "python",
      "name": "python3"
    }
  },
  "cells": [
    {
      "metadata": {
        "id": "pZLAl_QtYC4e",
        "colab_type": "text"
      },
      "cell_type": "markdown",
      "source": [
        "# Workshop 8. Наивный Байес и Классификация текстов\n",
        "\n",
        "> Байесовские алгоритмы для классификации текстов  \n",
        "> Извлечение признаков из текста\n",
        "\n",
        "1. Скачайте этот ноутбук к себе.\n",
        "2. Заполните пропущенные ячейки, отвечая на заданные вопросы. Там должен быть код! (если не сказано обратное)\n",
        "3. Сохраните результат в своём гитхаб репозитории.\n",
        "\n",
        "### Полезная литература\n",
        "\n",
        "- [Naive Bayes and Text Classification](https://sebastianraschka.com/Articles/2014_naive_bayes_1.html)\n",
        "- [ODS - классификация](https://habrahabr.ru/company/ods/blog/322534/)\n",
        "- [Байесовский классификатор](http://www.machinelearning.ru/wiki/index.php?title=%D0%91%D0%B0%D0%B9%D0%B5%D1%81%D0%BE%D0%B2%D1%81%D0%BA%D0%B8%D0%B9_%D0%BA%D0%BB%D0%B0%D1%81%D1%81%D0%B8%D1%84%D0%B8%D0%BA%D0%B0%D1%82%D0%BE%D1%80)\n",
        "- [Интересная статья про спам/не спам](https://habrahabr.ru/post/252265/)\n",
        "\n",
        "Если вам понравилась задача распознавания текстов, то вот подборочка:\n",
        "\n",
        "- [библиотека Gensim](https://radimrehurek.com/gensim/)\n",
        "- [библиотека nltk](http://www.nltk.org/)\n",
        "- [Лекция про word2vec 🔥](https://www.youtube.com/watch?v=oBb9aFmp0Hs)\n",
        "- [Лекция Векторные представления слов и документов 🔥](https://www.youtube.com/watch?v=hiDBnEyoZS4)"
      ]
    },
    {
      "metadata": {
        "id": "Bs72BYPMYC4l",
        "colab_type": "text"
      },
      "cell_type": "markdown",
      "source": [
        "## Наивный байесовский классификатор\n",
        "\n",
        "На практике мы использовали его для детекции спам/не спам. В этот раз вы будете классифицировать [новостные тексты](https://scikit-learn.org/0.19/datasets/twenty_newsgroups.html). Попробуете разные методы  генерации признаков из текстов."
      ]
    },
    {
      "metadata": {
        "id": "voLy4YLuYGWK",
        "colab_type": "code",
        "outputId": "2f102703-4543-4eed-811c-0c07dec5470e",
        "colab": {
          "base_uri": "https://localhost:8080/",
          "height": 146
        }
      },
      "cell_type": "code",
      "source": [
        "!git clone https://gitlab.7bits.it/isiganov/ml-course.git\n",
        "  "
      ],
      "execution_count": 0,
      "outputs": [
        {
          "output_type": "stream",
          "text": [
            "Cloning into 'ml-course'...\n",
            "remote: Enumerating objects: 397, done.\u001b[K\n",
            "remote: Counting objects: 100% (397/397), done.\u001b[K\n",
            "remote: Compressing objects: 100% (270/270), done.\u001b[K\n",
            "remote: Total 397 (delta 129), reused 330 (delta 99)\u001b[K\n",
            "Receiving objects: 100% (397/397), 52.17 MiB | 4.43 MiB/s, done.\n",
            "Resolving deltas: 100% (129/129), done.\n"
          ],
          "name": "stdout"
        }
      ]
    },
    {
      "metadata": {
        "id": "Yi0nYRZDeVfB",
        "colab_type": "code",
        "colab": {}
      },
      "cell_type": "code",
      "source": [
        "%matplotlib inline\n",
        "from matplotlib import pyplot as plt\n",
        "from sklearn.feature_extraction.text import CountVectorizer\n",
        "import numpy as np\n",
        "import pandas as pd\n",
        "import seaborn as sns\n",
        "from sklearn.model_selection import cross_val_score, train_test_split\n",
        "from sklearn.metrics import classification_report, confusion_matrix"
      ],
      "execution_count": 0,
      "outputs": []
    },
    {
      "metadata": {
        "id": "ePCrrqI7YC4q",
        "colab_type": "code",
        "outputId": "2bd2c110-0679-4194-93f8-0cb312e7f88d",
        "colab": {
          "base_uri": "https://localhost:8080/",
          "height": 421
        }
      },
      "cell_type": "code",
      "source": [
        "from sklearn.datasets import fetch_20newsgroups\n",
        "newsgroups_train = fetch_20newsgroups(subset='train', remove=('headers', 'footers', 'quotes'))\n",
        "newsgroups_train.target_names"
      ],
      "execution_count": 0,
      "outputs": [
        {
          "output_type": "stream",
          "text": [
            "Downloading 20news dataset. This may take a few minutes.\n",
            "Downloading dataset from https://ndownloader.figshare.com/files/5975967 (14 MB)\n"
          ],
          "name": "stderr"
        },
        {
          "output_type": "execute_result",
          "data": {
            "text/plain": [
              "['alt.atheism',\n",
              " 'comp.graphics',\n",
              " 'comp.os.ms-windows.misc',\n",
              " 'comp.sys.ibm.pc.hardware',\n",
              " 'comp.sys.mac.hardware',\n",
              " 'comp.windows.x',\n",
              " 'misc.forsale',\n",
              " 'rec.autos',\n",
              " 'rec.motorcycles',\n",
              " 'rec.sport.baseball',\n",
              " 'rec.sport.hockey',\n",
              " 'sci.crypt',\n",
              " 'sci.electronics',\n",
              " 'sci.med',\n",
              " 'sci.space',\n",
              " 'soc.religion.christian',\n",
              " 'talk.politics.guns',\n",
              " 'talk.politics.mideast',\n",
              " 'talk.politics.misc',\n",
              " 'talk.religion.misc']"
            ]
          },
          "metadata": {
            "tags": []
          },
          "execution_count": 3
        }
      ]
    },
    {
      "metadata": {
        "id": "Qy_hEZL2YC5K",
        "colab_type": "text"
      },
      "cell_type": "markdown",
      "source": [
        "### 2.1 Загрузка данных (2 балла)\n",
        "\n",
        "Мы будем использовать только 4 класса текстов: `'alt.atheism', 'sci.space', 'talk.religion.misc', 'comp.graphics'`.\n",
        "\n",
        "Загрузите тренировочную и тестовую части датасета для этих категорий."
      ]
    },
    {
      "metadata": {
        "id": "7oDgbwgtYC5P",
        "colab_type": "code",
        "colab": {}
      },
      "cell_type": "code",
      "source": [
        "newsgroups_test =  fetch_20newsgroups(subset='test', categories =[ 'alt.atheism', 'sci.space', 'talk.religion.misc', 'comp.graphics'],remove=('headers', 'footers', 'quotes'))\n",
        "newsgroups_train =  fetch_20newsgroups(subset='train', categories =[ 'alt.atheism', 'sci.space', 'talk.religion.misc', 'comp.graphics'],remove=('headers', 'footers', 'quotes'))"
      ],
      "execution_count": 0,
      "outputs": []
    },
    {
      "metadata": {
        "id": "6WdvV-kFarsY",
        "colab_type": "code",
        "outputId": "a368fe9b-0f85-4bd3-a2ef-b3fa99974cf2",
        "colab": {
          "base_uri": "https://localhost:8080/",
          "height": 35
        }
      },
      "cell_type": "code",
      "source": [
        "newsgroups_test.target"
      ],
      "execution_count": 0,
      "outputs": [
        {
          "output_type": "execute_result",
          "data": {
            "text/plain": [
              "array([2, 1, 1, ..., 3, 1, 1])"
            ]
          },
          "metadata": {
            "tags": []
          },
          "execution_count": 5
        }
      ]
    },
    {
      "metadata": {
        "id": "5XF6tCZdYC5a",
        "colab_type": "text"
      },
      "cell_type": "markdown",
      "source": [
        "Выведите по 1 тексту для каждой из категории."
      ]
    },
    {
      "metadata": {
        "scrolled": true,
        "id": "uZBv3CUIYC5e",
        "colab_type": "code",
        "outputId": "76ba3785-9193-4fa8-dd6e-6e3c058f7ba5",
        "colab": {
          "base_uri": "https://localhost:8080/",
          "height": 256
        }
      },
      "cell_type": "code",
      "source": [
        "import numpy as np\n",
        "import pandas as pd \n",
        "print(newsgroups_train.data[1])\n",
        "print(newsgroups_test.data[1])\n"
      ],
      "execution_count": 0,
      "outputs": [
        {
          "output_type": "stream",
          "text": [
            "\n",
            "\n",
            "Seems to be, barring evidence to the contrary, that Koresh was simply\n",
            "another deranged fanatic who thought it neccessary to take a whole bunch of\n",
            "folks with him, children and all, to satisfy his delusional mania. Jim\n",
            "Jones, circa 1993.\n",
            "\n",
            "\n",
            "Nope - fruitcakes like Koresh have been demonstrating such evil corruption\n",
            "for centuries.\n",
            "The Vatican library recently made a tour of the US.\n",
            " Can anyone help me in finding a FTP site where this collection is \n",
            " available.\n"
          ],
          "name": "stdout"
        }
      ]
    },
    {
      "metadata": {
        "id": "mlFELIYVYC5p",
        "colab_type": "code",
        "colab": {}
      },
      "cell_type": "code",
      "source": [
        ""
      ],
      "execution_count": 0,
      "outputs": []
    },
    {
      "metadata": {
        "id": "7iisKu6XYC50",
        "colab_type": "text"
      },
      "cell_type": "markdown",
      "source": [
        "\n",
        "### 2.2 Мешок слов\n",
        "\n",
        "Начнем с самого простого способа извлечения признаков из текстов: обычный подсчет количества употреблений слов в тексте.\n",
        "\n",
        "Для этого используем [sklearn.feature_extraction.text.CountVectorizer](http://scikit-learn.org/stable/modules/generated/sklearn.feature_extraction.text.CountVectorizer.html). Настройте его так, чтобы он использовал англиские стоп слова.\n",
        "\n",
        "Проведите трансформаци текстов из обоих датасетов и выведите размер полученного словаря. (1 векторайзер для тестового и тренировочного датасета! У вас должны получиться матрицы с одинаковыми признаками-словами)"
      ]
    },
    {
      "metadata": {
        "id": "dYD2NdIOYC54",
        "colab_type": "code",
        "colab": {}
      },
      "cell_type": "code",
      "source": [
        "vectorizer = CountVectorizer(stop_words='english')\n",
        "vectorizer.fit(newsgroups_train.data + newsgroups_test.data)\n",
        "word_train = vectorizer.transform(newsgroups_train.data)\n",
        "word_test =  vectorizer.transform(newsgroups_test.data)"
      ],
      "execution_count": 0,
      "outputs": []
    },
    {
      "metadata": {
        "id": "swJzLSVIhdxJ",
        "colab_type": "code",
        "outputId": "5e9fe9e6-7533-4321-9349-7afb0b76de5b",
        "colab": {
          "base_uri": "https://localhost:8080/",
          "height": 35
        }
      },
      "cell_type": "code",
      "source": [
        "len(newsgroups_train.data)"
      ],
      "execution_count": 0,
      "outputs": [
        {
          "output_type": "execute_result",
          "data": {
            "text/plain": [
              "2034"
            ]
          },
          "metadata": {
            "tags": []
          },
          "execution_count": 8
        }
      ]
    },
    {
      "metadata": {
        "id": "GiFgwhPShoc-",
        "colab_type": "code",
        "outputId": "4f9c1217-58b8-48a9-903c-1ce07f768000",
        "colab": {
          "base_uri": "https://localhost:8080/",
          "height": 35
        }
      },
      "cell_type": "code",
      "source": [
        "len(newsgroups_test.data)"
      ],
      "execution_count": 0,
      "outputs": [
        {
          "output_type": "execute_result",
          "data": {
            "text/plain": [
              "1353"
            ]
          },
          "metadata": {
            "tags": []
          },
          "execution_count": 9
        }
      ]
    },
    {
      "metadata": {
        "id": "C0_z00pzeTkB",
        "colab_type": "code",
        "outputId": "2d052b4b-9737-46c2-8959-f42094ec8298",
        "colab": {
          "base_uri": "https://localhost:8080/",
          "height": 35
        }
      },
      "cell_type": "code",
      "source": [
        "word_test.shape, word_train.shape"
      ],
      "execution_count": 0,
      "outputs": [
        {
          "output_type": "execute_result",
          "data": {
            "text/plain": [
              "((1353, 33529), (2034, 33529))"
            ]
          },
          "metadata": {
            "tags": []
          },
          "execution_count": 10
        }
      ]
    },
    {
      "metadata": {
        "id": "KVJ-pwV2hQrx",
        "colab_type": "code",
        "outputId": "4559fed0-8125-48da-eb4e-2a02a607215b",
        "colab": {
          "base_uri": "https://localhost:8080/",
          "height": 35
        }
      },
      "cell_type": "code",
      "source": [
        "len(vectorizer.vocabulary_)"
      ],
      "execution_count": 0,
      "outputs": [
        {
          "output_type": "execute_result",
          "data": {
            "text/plain": [
              "33529"
            ]
          },
          "metadata": {
            "tags": []
          },
          "execution_count": 11
        }
      ]
    },
    {
      "metadata": {
        "id": "CQ1un4rgffhY",
        "colab_type": "code",
        "outputId": "3f9454c3-a316-4930-d5c1-cfba4f39f41e",
        "colab": {
          "base_uri": "https://localhost:8080/",
          "height": 35
        }
      },
      "cell_type": "code",
      "source": [
        "newsgroups_test.target_names"
      ],
      "execution_count": 0,
      "outputs": [
        {
          "output_type": "execute_result",
          "data": {
            "text/plain": [
              "['alt.atheism', 'comp.graphics', 'sci.space', 'talk.religion.misc']"
            ]
          },
          "metadata": {
            "tags": []
          },
          "execution_count": 12
        }
      ]
    },
    {
      "metadata": {
        "id": "nekF4xMWYC6H",
        "colab_type": "text"
      },
      "cell_type": "markdown",
      "source": [
        "Будем использовать классифиактор для мультиклассифкации [sklearn.naive_bayes.MultinomialNB]().\n",
        "\n",
        "- Проведите кроссвалидацию на 5 фолдах для метрики `accuracy`.\n",
        "- обучите на тренировочных данных, \n",
        "- нарисуйте красивую confusion матрицу, (с именами классов, а не индексами по осям)\n",
        "- выведите отчет классификации для тестовой выборки (с именами классов, а не индексами)"
      ]
    },
    {
      "metadata": {
        "id": "PXwFKwmaYC6M",
        "colab_type": "code",
        "colab": {}
      },
      "cell_type": "code",
      "source": [
        "from sklearn.naive_bayes import MultinomialNB\n",
        "model = MultinomialNB(alpha = 1.0,fit_prior =True )"
      ],
      "execution_count": 0,
      "outputs": []
    },
    {
      "metadata": {
        "id": "YRpFiZuQYC6f",
        "colab_type": "code",
        "outputId": "80c177db-94c9-4452-e658-da2a279158ef",
        "colab": {
          "base_uri": "https://localhost:8080/",
          "height": 35
        }
      },
      "cell_type": "code",
      "source": [
        "model.fit(X = word_train,y= newsgroups_train.target)\n",
        "cross_val_score(model, word_test,newsgroups_test.target,cv = 5 )"
      ],
      "execution_count": 0,
      "outputs": [
        {
          "output_type": "execute_result",
          "data": {
            "text/plain": [
              "array([0.80514706, 0.84501845, 0.80442804, 0.81180812, 0.76865672])"
            ]
          },
          "metadata": {
            "tags": []
          },
          "execution_count": 14
        }
      ]
    },
    {
      "metadata": {
        "id": "E7GfJMt5qiXZ",
        "colab_type": "code",
        "colab": {}
      },
      "cell_type": "code",
      "source": [
        ""
      ],
      "execution_count": 0,
      "outputs": []
    },
    {
      "metadata": {
        "id": "H-hNiFCXYC6u",
        "colab_type": "code",
        "outputId": "f9cff6b3-40e9-4b09-f076-2961a9c5234a",
        "colab": {
          "base_uri": "https://localhost:8080/",
          "height": 283
        }
      },
      "cell_type": "code",
      "source": [
        "matrix =confusion_matrix(newsgroups_test.target, model.predict(word_test))\n",
        "\n",
        "matrix =pd.DataFrame(matrix,columns = newsgroups_test.target_names,index=newsgroups_test.target_names )\n",
        "sns.heatmap(matrix)\n"
      ],
      "execution_count": 0,
      "outputs": [
        {
          "output_type": "execute_result",
          "data": {
            "text/plain": [
              "<matplotlib.axes._subplots.AxesSubplot at 0x7f0698f47400>"
            ]
          },
          "metadata": {
            "tags": []
          },
          "execution_count": 15
        },
        {
          "output_type": "display_data",
          "data": {
            "image/png": "[encoded data removed]",
            "text/plain": [
              "<matplotlib.figure.Figure at 0x7f0698ed3630>"
            ]
          },
          "metadata": {
            "tags": []
          }
        }
      ]
    },
    {
      "metadata": {
        "id": "FFaRyz3sl2Oa",
        "colab_type": "text"
      },
      "cell_type": "markdown",
      "source": [
        ""
      ]
    },
    {
      "metadata": {
        "id": "n-zT9k94YC69",
        "colab_type": "code",
        "outputId": "27f56a49-747a-4b40-fa79-2825265ab881",
        "colab": {
          "base_uri": "https://localhost:8080/",
          "height": 90
        }
      },
      "cell_type": "code",
      "source": [
        "# Посмотрим на ТОП 10 по важности слова в каждой категории\n",
        "\n",
        "def show_top10(classifier, vectorizer, categories):\n",
        "    feature_names = np.asarray(vectorizer.get_feature_names())\n",
        "    for i, category in enumerate(categories):\n",
        "        top10 = np.argsort(classifier.coef_[i])[-10:]\n",
        "        print(\"%s: [%s]\" % (category, \" \".join(feature_names[top10])))\n",
        "\n",
        "show_top10(model, vectorizer, newsgroups_train.target_names)"
      ],
      "execution_count": 0,
      "outputs": [
        {
          "output_type": "stream",
          "text": [
            "alt.atheism: [like believe say atheism does just think don people god]\n",
            "comp.graphics: [software images files data use file jpeg edu graphics image]\n",
            "sci.space: [just shuttle time orbit data like earth launch nasa space]\n",
            "talk.religion.misc: [say know christian think just bible don jesus people god]\n"
          ],
          "name": "stdout"
        }
      ]
    },
    {
      "metadata": {
        "id": "ryP7KhoRYC7I",
        "colab_type": "text"
      },
      "cell_type": "markdown",
      "source": [
        "### 2.3 [Tf-IDF](https://ru.wikipedia.org/wiki/TF-IDF)\n",
        "\n",
        "Мешок слов не учитывает \"веса\" слов, он просто смотрит их вхождение в документ. Вероятно, было бы полезно взвесить каким-то обраом каждое слово в документе. Действительно, если слово встречается во всех документах, то, наверное, его вес небольшой. А если редкое слово встречается в некоторых документах, то скорее всего оно какое-то узко тематическое.\n",
        "\n",
        "Один из способов взвесить слова - это использовать меру tf-idf, где:\n",
        "\n",
        "**TF - term frequency** - частота слова для каждой статьи\n",
        "\n",
        "$$\\LARGE \\mathrm{tf}(t,d) = \\frac{n_t}{\\sum_k n_k}$$\n",
        "\n",
        "**IDF - inverse document frequency*** — обратная частота документа - уменьшает вес часто встречаемых слов\n",
        "\n",
        "$$\\LARGE \\mathrm{idf}(t, D) =  \\log \\frac{|D|}{|\\{\\,d_i \\in D \\mid t \\in d_{i}\\, \\}|}$$\n",
        "\n",
        "$D$ - число документов в корпусе\n",
        "\n",
        "$|\\{\\,d_i \\in D \\mid t \\in d_{i}\\, \\}|$ - число документов из коллекции ${\\displaystyle D}$ , в которых встречается ${\\displaystyle t}$  (когда ${\\displaystyle n_{t}\\neq 0}$ ).\n",
        "\n",
        "**TF-IDF**\n",
        "\n",
        "$$\\LARGE \\operatorname{tf-idf}(t,d,D) = \\operatorname{tf}(t,d) \\times \\operatorname{idf}(t, D)$$\n",
        "\n",
        "\n",
        "Для него есть класс [sklearn.feature_extraction.text.TfidfVectorizer](http://scikit-learn.org/stable/modules/generated/sklearn.feature_extraction.text.TfidfVectorizer.html)"
      ]
    },
    {
      "metadata": {
        "id": "z9989IupYC7M",
        "colab_type": "text"
      },
      "cell_type": "markdown",
      "source": [
        "- Проведите кроссвалидацию на 5 фолдах для метрики `accuracy`.\n",
        "- обучите на тренировочных данных, \n",
        "- нарисуйте красивую confusion матрицу, (с именами классов, а не индексами по осям)\n",
        "- выведите отчет классификации для тестовой выборки (с именами классов, а не индексами)"
      ]
    },
    {
      "metadata": {
        "id": "e4RP_-ZaYC7P",
        "colab_type": "code",
        "outputId": "5c069937-669b-4f6f-9921-e2d4a7c75a43",
        "colab": {
          "base_uri": "https://localhost:8080/",
          "height": 35
        }
      },
      "cell_type": "code",
      "source": [
        "from sklearn.feature_extraction.text import TfidfVectorizer\n",
        "vectorizer = TfidfVectorizer()\n",
        "vectorizer.fit(newsgroups_train.data + newsgroups_test.data)\n",
        "word_train = vectorizer.transform(newsgroups_train.data)\n",
        "word_test =  vectorizer.transform(newsgroups_test.data)\n",
        "model = MultinomialNB(alpha = 1.0,fit_prior =True )\n",
        "model.fit(X = word_train,y= newsgroups_train.target)\n",
        "cross_val_score(model, word_test,newsgroups_test.target,cv = 5 )\n"
      ],
      "execution_count": 0,
      "outputs": [
        {
          "output_type": "execute_result",
          "data": {
            "text/plain": [
              "array([0.69117647, 0.74169742, 0.6900369 , 0.73431734, 0.70149254])"
            ]
          },
          "metadata": {
            "tags": []
          },
          "execution_count": 17
        }
      ]
    },
    {
      "metadata": {
        "id": "SC6JopL8YC7h",
        "colab_type": "code",
        "outputId": "55c9bbf5-ff4a-40c9-f0ae-7934c969d459",
        "colab": {
          "base_uri": "https://localhost:8080/",
          "height": 283
        }
      },
      "cell_type": "code",
      "source": [
        "matrix =confusion_matrix(newsgroups_test.target, model.predict(word_test))\n",
        "matrix=pd.DataFrame(matrix,columns = newsgroups_test.target_names,index=newsgroups_test.target_names )\n",
        "sns.heatmap(matrix)"
      ],
      "execution_count": 0,
      "outputs": [
        {
          "output_type": "execute_result",
          "data": {
            "text/plain": [
              "<matplotlib.axes._subplots.AxesSubplot at 0x7f06993085f8>"
            ]
          },
          "metadata": {
            "tags": []
          },
          "execution_count": 18
        },
        {
          "output_type": "display_data",
          "data": {
            "image/png": "[encoded data removed]",
            "text/plain": [
              "<matplotlib.figure.Figure at 0x7f069beea748>"
            ]
          },
          "metadata": {
            "tags": []
          }
        }
      ]
    },
    {
      "metadata": {
        "id": "l9IEAhjEYC8T",
        "colab_type": "code",
        "colab": {}
      },
      "cell_type": "code",
      "source": [
        ""
      ],
      "execution_count": 0,
      "outputs": []
    },
    {
      "metadata": {
        "id": "5VnJBKNcYC8e",
        "colab_type": "code",
        "outputId": "6ed1f942-69c3-48be-af40-9859179f2c21",
        "colab": {
          "base_uri": "https://localhost:8080/",
          "height": 90
        }
      },
      "cell_type": "code",
      "source": [
        "show_top10(model, vectorizer, newsgroups_train.target_names)"
      ],
      "execution_count": 0,
      "outputs": [
        {
          "output_type": "stream",
          "text": [
            "alt.atheism: [not in and it you is that of to the]\n",
            "comp.graphics: [graphics you in it is for of and to the]\n",
            "sci.space: [for that it space is in and of to the]\n",
            "talk.religion.misc: [not it in you is and that to of the]\n"
          ],
          "name": "stdout"
        }
      ]
    },
    {
      "metadata": {
        "id": "kdrO-77HYC8t",
        "colab_type": "text"
      },
      "cell_type": "markdown",
      "source": [
        "### 2.4 В чём проблема?\n",
        "\n",
        "Как вы заметили, качество немного улучшилось. Как вы думаете почему у нас до сих пор есть ошибки? В чём проблема? Опирайтесь на вывод топа 10 важных слов, confusion matrix и репорт классификации.\n",
        "\n",
        "**Задание**: Напишите развернутое рассуждение."
      ]
    },
    {
      "metadata": {
        "id": "NF5HTWEzYC8y",
        "colab_type": "text"
      },
      "cell_type": "markdown",
      "source": [
        "Ответ: ???"
      ]
    },
    {
      "metadata": {
        "id": "kDynbM8fYC80",
        "colab_type": "text"
      },
      "cell_type": "markdown",
      "source": [
        "![](https://i.imgur.com/3D5pgrk.png)"
      ]
    },
    {
      "metadata": {
        "id": "medGeZH2YC9A",
        "colab_type": "text"
      },
      "cell_type": "markdown",
      "source": [
        "Можно еще немного улучшить качество предсказания, если использовть n-граммы, то есть не только одиночные слова, но и пары, тройки. Для этого у векторайзера есть параметр `ngram_range`, но будьте осторожны, сгенерируется очень много признаков. Их количество можно ограничить  `max_features`. Ещё можно копать в сторону правильного процессинга текстов: лемматизация и стемминг, чтобы убирать окончания, но это обчно не сильно помогает в английском языке.\n",
        "\n",
        "Кроме того можно было бы пойти совсем в другую сторону и использовать word-2-vec технологии, тогда бы у нас слова начал \"обретать\" смысл. Но это вовсем другая история."
      ]
    },
    {
      "metadata": {
        "id": "1b1DnyCp9T9O",
        "colab_type": "code",
        "outputId": "aaf4fa05-8aa2-4cae-8968-441df51cb0f4",
        "colab": {
          "base_uri": "https://localhost:8080/",
          "height": 35
        }
      },
      "cell_type": "code",
      "source": [
        "vectorizer = TfidfVectorizer(stop_words='english', ngram_range=(1,5), max_df=0.7)\n",
        "vectorizer.fit(newsgroups_train.data + newsgroups_test.data)\n",
        "word_train = vectorizer.transform(newsgroups_train.data)\n",
        "word_test =  vectorizer.transform(newsgroups_test.data)\n",
        "model = MultinomialNB(alpha = 1.0,fit_prior =True )\n",
        "model.fit(X = word_train,y= newsgroups_train.target)\n",
        "cross_val_score(model, word_test,newsgroups_test.target,cv = 5 )"
      ],
      "execution_count": 0,
      "outputs": [
        {
          "output_type": "execute_result",
          "data": {
            "text/plain": [
              "array([0.67279412, 0.64944649, 0.68265683, 0.66051661, 0.65671642])"
            ]
          },
          "metadata": {
            "tags": []
          },
          "execution_count": 38
        }
      ]
    },
    {
      "metadata": {
        "id": "YPs867Vm6ejD",
        "colab_type": "code",
        "colab": {}
      },
      "cell_type": "code",
      "source": [
        "array([0.67279412, 0.64944649, 0.68265683, 0.66051661, 0.65671642]) - 0.7"
      ],
      "execution_count": 0,
      "outputs": []
    },
    {
      "metadata": {
        "id": "Q4eQPGS_-O_t",
        "colab_type": "code",
        "outputId": "de2a70b2-7869-4867-b5e8-377740a288ce",
        "colab": {
          "base_uri": "https://localhost:8080/",
          "height": 90
        }
      },
      "cell_type": "code",
      "source": [
        "show_top10(model, vectorizer, newsgroups_train.target_names)\n"
      ],
      "execution_count": 0,
      "outputs": [
        {
          "output_type": "stream",
          "text": [
            "alt.atheism: [does deletion religion say atheism think just don people god]\n",
            "comp.graphics: [hi use does program know file files image thanks graphics]\n",
            "sci.space: [earth shuttle lunar just moon orbit launch like nasa space]\n",
            "talk.religion.misc: [think objective just don christians bible christian people jesus god]\n"
          ],
          "name": "stdout"
        }
      ]
    }
  ]
}