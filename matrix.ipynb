{
 "cells": [
  {
   "cell_type": "code",
   "execution_count": 117,
   "metadata": {},
   "outputs": [],
   "source": [
    "\n",
    "import copy\n",
    "class Matrix(object):\n",
    "    def __init__(self,array):\n",
    "        self.array = array\n",
    "        \n",
    "    def __add__(self,value):\n",
    "        if(type(self)==type(value) and len(self.array)==len(value.array) and len(self.array[0])== len(value.array[0])):\n",
    "            a=[]\n",
    "            def add(x, y):\n",
    "                return list(map(lambda a, b: a + b, x, y))\n",
    "            \n",
    "            for i,k in zip(self.array,value.array):\n",
    "                 a.append(add(i,k)) \n",
    "            return Matrix(a)\n",
    "        else: raise TypeError('Матрицу можно сложить только с матрицей,такого же размера')\n",
    "    def __mul__(self,value):\n",
    "        if type(value) == type(3) or type(value) == type(3.5):\n",
    "            a = []\n",
    "            def mul(x,y):\n",
    "                return list(map(lambda a:a*y,x))\n",
    "            for k in self.array:\n",
    "                a.append(mul(k,value))\n",
    "            return Matrix(a)\n",
    "        if type(value) == type(self) and len(self.array[0]) != len(value.array):\n",
    "            raise TypeError('Умножение двух матриц возможно лишь если количество столбцов 1 матрицы,равно количеству строк 2 матрицы')\n",
    "        if type(value) == type(self) and len(self.array[0]) == len(value.array):\n",
    "            a = []\n",
    "            b = []\n",
    "            for i in range(len(self.array)):\n",
    "                for j in range(len(value.array[0])):\n",
    "                    sigma = 0\n",
    "                    for m in range(len(self.array[0])):\n",
    "                        sigma += self.array[i][m]* value.array[m][j]\n",
    "                    b.append(sigma)\n",
    "                a.append(b)\n",
    "                b = []\n",
    "            return Matrix(a)\n",
    "    def __str__(self):\n",
    "        a = \"\"\n",
    "        for i in self.array:\n",
    "            a = a + str(i) + '\\n'\n",
    "        return a\n",
    "\n",
    "    def minor(self,j,k=0):\n",
    "            if len(self.array[0]) <= 1:\n",
    "                return(self.array)\n",
    "            a = copy.deepcopy(self.array)\n",
    "            for i in a:\n",
    "                i.pop(j)\n",
    "            a.pop(k)\n",
    "               #print(a)\n",
    "            return Matrix(a)\n",
    "    def transpose(self):\n",
    "        return list(map(list, zip(*self.array)))\n",
    "    def det(self):\n",
    "        if (len(self.array) == len(self.array[0])):\n",
    "            dete = 0\n",
    "            if len(self.array)==1:\n",
    "                return self.array[0][0]\n",
    "            else:\n",
    "                for i,k in zip(self.array[0],range(len(self.array[0]))):\n",
    "                    dete += ((-1)**(k)) * i * self.minor(k).det()\n",
    "            return dete\n",
    "        else:  \n",
    "            raise TypeError(\"Определители бывают лишь у квадратных матриц\")\n",
    "   \n",
    "    def inv(self):\n",
    "        if (len(self.array) == len(self.array[0])) and self.det() != 0:\n",
    "            b = copy.deepcopy(self)\n",
    "            for i in range(len(self.array)):\n",
    "                for k in range(len(self.array[0])):\n",
    "                    b.array[i][k] = ((-1)**(k+i))*(self.minor(i,k=k)).det()\n",
    "            b = b* (1/self.det())\n",
    "            return Matrix(b).array\n",
    "        else:\n",
    "            raise TypeError(\"Обратной матрицы у данной не существует\")\n",
    "        \n"
   ]
  },
  {
   "cell_type": "code",
   "execution_count": 118,
   "metadata": {},
   "outputs": [],
   "source": [
    "a = Matrix([[1,2,3],[4,5,6],[7,8,9]])\n",
    "c = Matrix([[1,2,3],[4,5,6]])\n",
    "b= Matrix([[1,2,3,4,5],[31,22,31,54,2],[76,20,10,15,20],[88,77,44,2,1],[3,17,37,21,2]])\n",
    "k = Matrix([[1,2,3],[4,5,6],[7,8,91]])\n",
    "\n"
   ]
  },
  {
   "cell_type": "code",
   "execution_count": 119,
   "metadata": {},
   "outputs": [
    {
     "name": "stdout",
     "output_type": "stream",
     "text": [
      "[2, 4, 6]\n",
      "[8, 10, 12]\n",
      "[14, 16, 100]\n",
      "\n"
     ]
    }
   ],
   "source": [
    "print(a+k)"
   ]
  },
  {
   "cell_type": "code",
   "execution_count": 120,
   "metadata": {},
   "outputs": [
    {
     "name": "stdout",
     "output_type": "stream",
     "text": [
      "[13, 26, 39, 52, 65]\n",
      "[403, 286, 403, 702, 26]\n",
      "[988, 260, 130, 195, 260]\n",
      "[1144, 1001, 572, 26, 13]\n",
      "[39, 221, 481, 273, 26]\n",
      "\n"
     ]
    }
   ],
   "source": [
    "print(b * 13)"
   ]
  },
  {
   "cell_type": "code",
   "execution_count": 121,
   "metadata": {},
   "outputs": [
    {
     "name": "stdout",
     "output_type": "stream",
     "text": [
      "[30, 36, 288]\n",
      "[66, 81, 588]\n",
      "[102, 126, 888]\n",
      "\n"
     ]
    }
   ],
   "source": [
    "print(a*k)"
   ]
  },
  {
   "cell_type": "code",
   "execution_count": 122,
   "metadata": {},
   "outputs": [
    {
     "name": "stdout",
     "output_type": "stream",
     "text": [
      "-20320906\n"
     ]
    }
   ],
   "source": [
    "print(b.det())"
   ]
  },
  {
   "cell_type": "code",
   "execution_count": 123,
   "metadata": {},
   "outputs": [
    {
     "name": "stdout",
     "output_type": "stream",
     "text": [
      "[-0.08026339967322323, -0.002579117289357079, 0.01970586350825106, -0.004115220059578053, 0.00823659141969359]\n",
      "[0.1368145691929287, 0.014245919940774295, -0.03262069122311771, 0.023016887140760358, -0.041583874262299134]\n",
      "[-0.0845912578897811, -0.020660889824498967, 0.017944426296740902, -0.009211351108065752, 0.05730044713557555]\n",
      "[0.03199256962263395, 0.026576374104579786, -0.008514974676818051, -0.001670496384363965, -0.02057280320080217]\n",
      "[0.18648755129323466, -0.01404710990740275, 0.005152427751006771, -0.0015205030720579092, -0.00293579429972266]\n",
      "\n"
     ]
    }
   ],
   "source": [
    "print(b.inv())"
   ]
  },
  {
   "cell_type": "code",
   "execution_count": 124,
   "metadata": {},
   "outputs": [
    {
     "data": {
      "text/plain": [
       "[[1, 31, 76, 88, 3],\n",
       " [2, 22, 20, 77, 17],\n",
       " [3, 31, 10, 44, 37],\n",
       " [4, 54, 15, 2, 21],\n",
       " [5, 2, 20, 1, 2]]"
      ]
     },
     "execution_count": 124,
     "metadata": {},
     "output_type": "execute_result"
    }
   ],
   "source": [
    "b.transpose()"
   ]
  },
  {
   "cell_type": "code",
   "execution_count": 131,
   "metadata": {},
   "outputs": [
    {
     "name": "stdout",
     "output_type": "stream",
     "text": [
      "[30, 36, 288]\n",
      "[66, 81, 588]\n",
      "\n"
     ]
    }
   ],
   "source": [
    "print(c*k)"
   ]
  },
  {
   "cell_type": "code",
   "execution_count": 130,
   "metadata": {},
   "outputs": [
    {
     "ename": "TypeError",
     "evalue": "Определители бывают лишь у квадратных матриц",
     "output_type": "error",
     "traceback": [
      "\u001b[0;31m---------------------------------------------------------------------------\u001b[0m",
      "\u001b[0;31mTypeError\u001b[0m                                 Traceback (most recent call last)",
      "\u001b[0;32m<ipython-input-130-98369854a613>\u001b[0m in \u001b[0;36m<module>\u001b[0;34m()\u001b[0m\n\u001b[0;32m----> 1\u001b[0;31m \u001b[0mc\u001b[0m\u001b[0;34m.\u001b[0m\u001b[0mdet\u001b[0m\u001b[0;34m(\u001b[0m\u001b[0;34m)\u001b[0m\u001b[0;34m\u001b[0m\u001b[0m\n\u001b[0m",
      "\u001b[0;32m<ipython-input-117-df4f5a23fcda>\u001b[0m in \u001b[0;36mdet\u001b[0;34m(self)\u001b[0m\n\u001b[1;32m     64\u001b[0m             \u001b[0;32mreturn\u001b[0m \u001b[0mdete\u001b[0m\u001b[0;34m\u001b[0m\u001b[0m\n\u001b[1;32m     65\u001b[0m         \u001b[0;32melse\u001b[0m\u001b[0;34m:\u001b[0m\u001b[0;34m\u001b[0m\u001b[0m\n\u001b[0;32m---> 66\u001b[0;31m             \u001b[0;32mraise\u001b[0m \u001b[0mTypeError\u001b[0m\u001b[0;34m(\u001b[0m\u001b[0;34m\"Определители бывают лишь у квадратных матриц\"\u001b[0m\u001b[0;34m)\u001b[0m\u001b[0;34m\u001b[0m\u001b[0m\n\u001b[0m\u001b[1;32m     67\u001b[0m \u001b[0;34m\u001b[0m\u001b[0m\n\u001b[1;32m     68\u001b[0m     \u001b[0;32mdef\u001b[0m \u001b[0minv\u001b[0m\u001b[0;34m(\u001b[0m\u001b[0mself\u001b[0m\u001b[0;34m)\u001b[0m\u001b[0;34m:\u001b[0m\u001b[0;34m\u001b[0m\u001b[0m\n",
      "\u001b[0;31mTypeError\u001b[0m: Определители бывают лишь у квадратных матриц"
     ]
    }
   ],
   "source": [
    "c.det()"
   ]
  },
  {
   "cell_type": "code",
   "execution_count": 127,
   "metadata": {},
   "outputs": [
    {
     "ename": "TypeError",
     "evalue": "Обратной матрицы у данной не существует",
     "output_type": "error",
     "traceback": [
      "\u001b[0;31m---------------------------------------------------------------------------\u001b[0m",
      "\u001b[0;31mTypeError\u001b[0m                                 Traceback (most recent call last)",
      "\u001b[0;32m<ipython-input-127-8bee43120129>\u001b[0m in \u001b[0;36m<module>\u001b[0;34m()\u001b[0m\n\u001b[0;32m----> 1\u001b[0;31m \u001b[0mc\u001b[0m\u001b[0;34m.\u001b[0m\u001b[0minv\u001b[0m\u001b[0;34m(\u001b[0m\u001b[0;34m)\u001b[0m\u001b[0;34m\u001b[0m\u001b[0m\n\u001b[0m",
      "\u001b[0;32m<ipython-input-117-df4f5a23fcda>\u001b[0m in \u001b[0;36minv\u001b[0;34m(self)\u001b[0m\n\u001b[1;32m     75\u001b[0m             \u001b[0;32mreturn\u001b[0m \u001b[0mMatrix\u001b[0m\u001b[0;34m(\u001b[0m\u001b[0mb\u001b[0m\u001b[0;34m)\u001b[0m\u001b[0;34m.\u001b[0m\u001b[0marray\u001b[0m\u001b[0;34m\u001b[0m\u001b[0m\n\u001b[1;32m     76\u001b[0m         \u001b[0;32melse\u001b[0m\u001b[0;34m:\u001b[0m\u001b[0;34m\u001b[0m\u001b[0m\n\u001b[0;32m---> 77\u001b[0;31m             \u001b[0;32mraise\u001b[0m \u001b[0mTypeError\u001b[0m\u001b[0;34m(\u001b[0m\u001b[0;34m\"Обратной матрицы у данной не существует\"\u001b[0m\u001b[0;34m)\u001b[0m\u001b[0;34m\u001b[0m\u001b[0m\n\u001b[0m\u001b[1;32m     78\u001b[0m \u001b[0;34m\u001b[0m\u001b[0m\n",
      "\u001b[0;31mTypeError\u001b[0m: Обратной матрицы у данной не существует"
     ]
    }
   ],
   "source": [
    "c.inv()"
   ]
  },
  {
   "cell_type": "code",
   "execution_count": 129,
   "metadata": {},
   "outputs": [
    {
     "ename": "TypeError",
     "evalue": "Умножение двух матриц возможно лишь если количество столбцов 1 матрицы,равно количеству строк 2 матрицы",
     "output_type": "error",
     "traceback": [
      "\u001b[0;31m---------------------------------------------------------------------------\u001b[0m",
      "\u001b[0;31mTypeError\u001b[0m                                 Traceback (most recent call last)",
      "\u001b[0;32m<ipython-input-129-f9c8a447c001>\u001b[0m in \u001b[0;36m<module>\u001b[0;34m()\u001b[0m\n\u001b[0;32m----> 1\u001b[0;31m \u001b[0mprint\u001b[0m\u001b[0;34m(\u001b[0m\u001b[0ma\u001b[0m\u001b[0;34m*\u001b[0m\u001b[0mb\u001b[0m\u001b[0;34m)\u001b[0m\u001b[0;34m\u001b[0m\u001b[0m\n\u001b[0m",
      "\u001b[0;32m<ipython-input-117-df4f5a23fcda>\u001b[0m in \u001b[0;36m__mul__\u001b[0;34m(self, value)\u001b[0m\n\u001b[1;32m     24\u001b[0m             \u001b[0;32mreturn\u001b[0m \u001b[0mMatrix\u001b[0m\u001b[0;34m(\u001b[0m\u001b[0ma\u001b[0m\u001b[0;34m)\u001b[0m\u001b[0;34m\u001b[0m\u001b[0m\n\u001b[1;32m     25\u001b[0m         \u001b[0;32mif\u001b[0m \u001b[0mtype\u001b[0m\u001b[0;34m(\u001b[0m\u001b[0mvalue\u001b[0m\u001b[0;34m)\u001b[0m \u001b[0;34m==\u001b[0m \u001b[0mtype\u001b[0m\u001b[0;34m(\u001b[0m\u001b[0mself\u001b[0m\u001b[0;34m)\u001b[0m \u001b[0;32mand\u001b[0m \u001b[0mlen\u001b[0m\u001b[0;34m(\u001b[0m\u001b[0mself\u001b[0m\u001b[0;34m.\u001b[0m\u001b[0marray\u001b[0m\u001b[0;34m[\u001b[0m\u001b[0;36m0\u001b[0m\u001b[0;34m]\u001b[0m\u001b[0;34m)\u001b[0m \u001b[0;34m!=\u001b[0m \u001b[0mlen\u001b[0m\u001b[0;34m(\u001b[0m\u001b[0mvalue\u001b[0m\u001b[0;34m.\u001b[0m\u001b[0marray\u001b[0m\u001b[0;34m)\u001b[0m\u001b[0;34m:\u001b[0m\u001b[0;34m\u001b[0m\u001b[0m\n\u001b[0;32m---> 26\u001b[0;31m             \u001b[0;32mraise\u001b[0m \u001b[0mTypeError\u001b[0m\u001b[0;34m(\u001b[0m\u001b[0;34m'Умножение двух матриц возможно лишь если количество столбцов 1 матрицы,равно количеству строк 2 матрицы'\u001b[0m\u001b[0;34m)\u001b[0m\u001b[0;34m\u001b[0m\u001b[0m\n\u001b[0m\u001b[1;32m     27\u001b[0m         \u001b[0;32mif\u001b[0m \u001b[0mtype\u001b[0m\u001b[0;34m(\u001b[0m\u001b[0mvalue\u001b[0m\u001b[0;34m)\u001b[0m \u001b[0;34m==\u001b[0m \u001b[0mtype\u001b[0m\u001b[0;34m(\u001b[0m\u001b[0mself\u001b[0m\u001b[0;34m)\u001b[0m \u001b[0;32mand\u001b[0m \u001b[0mlen\u001b[0m\u001b[0;34m(\u001b[0m\u001b[0mself\u001b[0m\u001b[0;34m.\u001b[0m\u001b[0marray\u001b[0m\u001b[0;34m[\u001b[0m\u001b[0;36m0\u001b[0m\u001b[0;34m]\u001b[0m\u001b[0;34m)\u001b[0m \u001b[0;34m==\u001b[0m \u001b[0mlen\u001b[0m\u001b[0;34m(\u001b[0m\u001b[0mvalue\u001b[0m\u001b[0;34m.\u001b[0m\u001b[0marray\u001b[0m\u001b[0;34m)\u001b[0m\u001b[0;34m:\u001b[0m\u001b[0;34m\u001b[0m\u001b[0m\n\u001b[1;32m     28\u001b[0m             \u001b[0ma\u001b[0m \u001b[0;34m=\u001b[0m \u001b[0;34m[\u001b[0m\u001b[0;34m]\u001b[0m\u001b[0;34m\u001b[0m\u001b[0m\n",
      "\u001b[0;31mTypeError\u001b[0m: Умножение двух матриц возможно лишь если количество столбцов 1 матрицы,равно количеству строк 2 матрицы"
     ]
    }
   ],
   "source": [
    "print(a*b)"
   ]
  }
 ],
 "metadata": {
  "kernelspec": {
   "display_name": "Python 3",
   "language": "python",
   "name": "python3"
  },
  "language_info": {
   "codemirror_mode": {
    "name": "ipython",
    "version": 3
   },
   "file_extension": ".py",
   "mimetype": "text/x-python",
   "name": "python",
   "nbconvert_exporter": "python",
   "pygments_lexer": "ipython3",
   "version": "3.6.5"
  }
 },
 "nbformat": 4,
 "nbformat_minor": 2
}
